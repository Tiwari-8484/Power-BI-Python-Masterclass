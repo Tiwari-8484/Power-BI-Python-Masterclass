{
 "cells": [
  {
   "cell_type": "markdown",
   "id": "217f983b-996d-44e5-95a1-3c9709d3dc89",
   "metadata": {},
   "source": [
    "# Day 5"
   ]
  },
  {
   "cell_type": "markdown",
   "id": "104bf14c-25bf-4d55-b95d-2133a1693172",
   "metadata": {},
   "source": [
    "# loop in python"
   ]
  },
  {
   "cell_type": "code",
   "execution_count": 1,
   "id": "f1206957-bd53-4a78-a88b-a7ea06faa626",
   "metadata": {},
   "outputs": [
    {
     "name": "stdout",
     "output_type": "stream",
     "text": [
      "1\n",
      "2\n",
      "3\n",
      "4\n",
      "5\n"
     ]
    }
   ],
   "source": [
    "x = 1\n",
    "while x <= 5:\n",
    "    print(x)\n",
    "    x = x+1"
   ]
  },
  {
   "cell_type": "markdown",
   "id": "949eb62a-2571-4045-a63d-ea142136d32e",
   "metadata": {},
   "source": [
    "# Keep taking user input until they enter \"exist\""
   ]
  },
  {
   "cell_type": "code",
   "execution_count": 1,
   "id": "817e71b7-dbcb-4cf8-ad49-5df38aa3b2c5",
   "metadata": {},
   "outputs": [
    {
     "name": "stdin",
     "output_type": "stream",
     "text": [
      "Enter something (type 'exist' to stop):  Ankit\n"
     ]
    },
    {
     "name": "stdout",
     "output_type": "stream",
     "text": [
      "You entered Ankit\n"
     ]
    },
    {
     "name": "stdin",
     "output_type": "stream",
     "text": [
      "Enter something (type 'exist' to stop):  kumar\n"
     ]
    },
    {
     "name": "stdout",
     "output_type": "stream",
     "text": [
      "You entered kumar\n"
     ]
    },
    {
     "name": "stdin",
     "output_type": "stream",
     "text": [
      "Enter something (type 'exist' to stop):  Tiwari\n"
     ]
    },
    {
     "name": "stdout",
     "output_type": "stream",
     "text": [
      "You entered Tiwari\n"
     ]
    },
    {
     "name": "stdin",
     "output_type": "stream",
     "text": [
      "Enter something (type 'exist' to stop):  exist\n"
     ]
    },
    {
     "name": "stdout",
     "output_type": "stream",
     "text": [
      "Program terminated.\n"
     ]
    }
   ],
   "source": [
    "user_input = \"\"\n",
    "\n",
    "while user_input.lower() != \"exist\":   # Convert input to lowercase to handle case \n",
    "    user_input = input(\"Enter something (type 'exist' to stop): \")\n",
    "    if user_input.lower() != \"exist\":\n",
    "        print(\"You entered\", user_input)\n",
    "\n",
    "print(\"Program terminated.\")\n",
    " "
   ]
  },
  {
   "cell_type": "code",
   "execution_count": null,
   "id": "28208aed-666c-436e-94a6-c6e114ab99f7",
   "metadata": {},
   "outputs": [],
   "source": [
    "You are tasked with validating user input \n",
    "for email address. Write a Python program \n",
    "that prompts the user to enter an email address.\n",
    "Use a while loop to create through the input and \n",
    "check if the email address contains an \"@\" symbol\n",
    "and \".\" symbol. If the email address does not meet \n",
    "these cretria, print \"Inavlid email address format.\n",
    "Please try again. \" Otherwise, print \"Email address validation passed \" \n"
   ]
  },
  {
   "cell_type": "code",
   "execution_count": 2,
   "id": "3bfa3406-c818-4509-9ded-7ba138edc02f",
   "metadata": {},
   "outputs": [
    {
     "name": "stdin",
     "output_type": "stream",
     "text": [
      "Please enter your mail address  ankitgmail,com\n"
     ]
    },
    {
     "name": "stdout",
     "output_type": "stream",
     "text": [
      "Inavlid email address format. Please try again.\n"
     ]
    },
    {
     "name": "stdin",
     "output_type": "stream",
     "text": [
      "please entar your mail address ankit@gmail.com\n"
     ]
    },
    {
     "name": "stdout",
     "output_type": "stream",
     "text": [
      "Email address validation passed.\n"
     ]
    }
   ],
   "source": [
    "email = input(\"Please enter your mail address \")\n",
    "\n",
    "# Initialize a flag to crack validatioin status \n",
    "valid_email = False\n",
    "\n",
    "# Start the loop\n",
    "while not valid_email:\n",
    "    # Check if email contains \"@\" and \".\"\n",
    "    if \"@\" in email and \".\" in email:\n",
    "        print(\"Email address validation passed.\")\n",
    "        valid_email = True\n",
    "    else:\n",
    "        print(\"Inavlid email address format. Please try again.\")\n",
    "        email = input(\"please entar your mail address\")"
   ]
  },
  {
   "cell_type": "code",
   "execution_count": 3,
   "id": "71d16639-f222-47da-98a8-8702a9f547df",
   "metadata": {},
   "outputs": [
    {
     "name": "stdout",
     "output_type": "stream",
     "text": [
      "\n",
      "Welcome to the ATM Simulator\n",
      "1. Check Balance\n",
      "2. Deposit Money\n",
      "3. Withdraw Money\n",
      "4. Exit\n"
     ]
    },
    {
     "name": "stdin",
     "output_type": "stream",
     "text": [
      "Enter your choice (1/2/3/4):  1\n"
     ]
    },
    {
     "name": "stdout",
     "output_type": "stream",
     "text": [
      "Your current balance is: Rs. 5000\n",
      "\n",
      "Welcome to the ATM Simulator\n",
      "1. Check Balance\n",
      "2. Deposit Money\n",
      "3. Withdraw Money\n",
      "4. Exit\n"
     ]
    },
    {
     "name": "stdin",
     "output_type": "stream",
     "text": [
      "Enter your choice (1/2/3/4):  2\n",
      "Enter amount to deposit: Rs.  -4000\n"
     ]
    },
    {
     "name": "stdout",
     "output_type": "stream",
     "text": [
      "Invalid deposit amount!\n",
      "\n",
      "Welcome to the ATM Simulator\n",
      "1. Check Balance\n",
      "2. Deposit Money\n",
      "3. Withdraw Money\n",
      "4. Exit\n"
     ]
    },
    {
     "name": "stdin",
     "output_type": "stream",
     "text": [
      "Enter your choice (1/2/3/4):  1\n"
     ]
    },
    {
     "name": "stdout",
     "output_type": "stream",
     "text": [
      "Your current balance is: Rs. 5000\n",
      "\n",
      "Welcome to the ATM Simulator\n",
      "1. Check Balance\n",
      "2. Deposit Money\n",
      "3. Withdraw Money\n",
      "4. Exit\n"
     ]
    },
    {
     "name": "stdin",
     "output_type": "stream",
     "text": [
      "Enter your choice (1/2/3/4):  2\n",
      "Enter amount to deposit: Rs.  3000\n"
     ]
    },
    {
     "name": "stdout",
     "output_type": "stream",
     "text": [
      "Successfully deposited Rs. 3000.0. New balance: Rs. 8000.0\n",
      "\n",
      "Welcome to the ATM Simulator\n",
      "1. Check Balance\n",
      "2. Deposit Money\n",
      "3. Withdraw Money\n",
      "4. Exit\n"
     ]
    },
    {
     "name": "stdin",
     "output_type": "stream",
     "text": [
      "Enter your choice (1/2/3/4):  1\n"
     ]
    },
    {
     "name": "stdout",
     "output_type": "stream",
     "text": [
      "Your current balance is: Rs. 8000.0\n",
      "\n",
      "Welcome to the ATM Simulator\n",
      "1. Check Balance\n",
      "2. Deposit Money\n",
      "3. Withdraw Money\n",
      "4. Exit\n"
     ]
    },
    {
     "name": "stdin",
     "output_type": "stream",
     "text": [
      "Enter your choice (1/2/3/4):  3\n",
      "Enter amount to withdraw: Rs.  -4000\n"
     ]
    },
    {
     "name": "stdout",
     "output_type": "stream",
     "text": [
      "Invalid withdrawal amount!\n",
      "\n",
      "Welcome to the ATM Simulator\n",
      "1. Check Balance\n",
      "2. Deposit Money\n",
      "3. Withdraw Money\n",
      "4. Exit\n"
     ]
    },
    {
     "name": "stdin",
     "output_type": "stream",
     "text": [
      "Enter your choice (1/2/3/4):  3\n",
      "Enter amount to withdraw: Rs.  4000\n"
     ]
    },
    {
     "name": "stdout",
     "output_type": "stream",
     "text": [
      "Successfully withdrawn Rs. 4000.0. Remaining balance: Rs. 4000.0\n",
      "\n",
      "Welcome to the ATM Simulator\n",
      "1. Check Balance\n",
      "2. Deposit Money\n",
      "3. Withdraw Money\n",
      "4. Exit\n"
     ]
    },
    {
     "name": "stdin",
     "output_type": "stream",
     "text": [
      "Enter your choice (1/2/3/4):  1\n"
     ]
    },
    {
     "name": "stdout",
     "output_type": "stream",
     "text": [
      "Your current balance is: Rs. 4000.0\n",
      "\n",
      "Welcome to the ATM Simulator\n",
      "1. Check Balance\n",
      "2. Deposit Money\n",
      "3. Withdraw Money\n",
      "4. Exit\n"
     ]
    },
    {
     "name": "stdin",
     "output_type": "stream",
     "text": [
      "Enter your choice (1/2/3/4):  4\n"
     ]
    },
    {
     "name": "stdout",
     "output_type": "stream",
     "text": [
      "Thank you for using the ATM. Goodbye!\n"
     ]
    }
   ],
   "source": [
    "# Initial balance\n",
    "balance = 5000  # Assume the user has an initial balance of 5000\n",
    "\n",
    "# ATM functionality loop\n",
    "while True:\n",
    "    print(\"\\nWelcome to the ATM Simulator\")\n",
    "    print(\"1. Check Balance\")\n",
    "    print(\"2. Deposit Money\")\n",
    "    print(\"3. Withdraw Money\")\n",
    "    print(\"4. Exit\")\n",
    "    \n",
    "    choice = input(\"Enter your choice (1/2/3/4): \")\n",
    "    \n",
    "    if choice == \"1\":\n",
    "        print(f\"Your current balance is: Rs. {balance}\")\n",
    "    \n",
    "    elif choice == \"2\":\n",
    "        deposit_amount = float(input(\"Enter amount to deposit: Rs. \"))\n",
    "        if deposit_amount > 0:\n",
    "            balance += deposit_amount\n",
    "            print(f\"Successfully deposited Rs. {deposit_amount}. New balance: Rs. {balance}\")\n",
    "        else:\n",
    "            print(\"Invalid deposit amount!\")\n",
    "    \n",
    "    elif choice == \"3\":\n",
    "        withdraw_amount = float(input(\"Enter amount to withdraw: Rs. \"))\n",
    "        if withdraw_amount > balance:\n",
    "            print(\"Insufficient balance!\")\n",
    "        elif withdraw_amount <= 0:\n",
    "            print(\"Invalid withdrawal amount!\")\n",
    "        else:\n",
    "            balance -= withdraw_amount\n",
    "            print(f\"Successfully withdrawn Rs. {withdraw_amount}. Remaining balance: Rs. {balance}\")\n",
    "    \n",
    "    elif choice == \"4\":\n",
    "        print(\"Thank you for using the ATM. Goodbye!\")\n",
    "        break\n",
    "    \n",
    "    else:\n",
    "        print(\"Invalid choice! Please select a valid option.\")\n"
   ]
  },
  {
   "cell_type": "markdown",
   "id": "89866343-35b3-49cc-b3a8-cd4e3a1fd5dd",
   "metadata": {},
   "source": [
    "# for loop"
   ]
  },
  {
   "cell_type": "markdown",
   "id": "4544e44d-3e46-4822-83ad-0a69992b999a",
   "metadata": {},
   "source": [
    "# for loop in list"
   ]
  },
  {
   "cell_type": "code",
   "execution_count": 3,
   "id": "7331acba-3d76-473d-b971-78ffe9f532fa",
   "metadata": {},
   "outputs": [
    {
     "name": "stdout",
     "output_type": "stream",
     "text": [
      "apple\n",
      "banana\n",
      "mango\n"
     ]
    }
   ],
   "source": [
    "fruits = ['apple', 'banana', 'mango']\n",
    "for fruit in fruits:\n",
    "    print(fruit)"
   ]
  },
  {
   "cell_type": "markdown",
   "id": "8b165120-72bd-4161-bdff-d9152da6d4ad",
   "metadata": {},
   "source": [
    "# for loop in string"
   ]
  },
  {
   "cell_type": "code",
   "execution_count": 5,
   "id": "e3a5536a-d932-4975-8f28-ee5dc3857b2c",
   "metadata": {},
   "outputs": [
    {
     "name": "stdout",
     "output_type": "stream",
     "text": [
      "A\n",
      "n\n",
      "k\n",
      "i\n",
      "t\n"
     ]
    }
   ],
   "source": [
    "for letter in 'Ankit':\n",
    "    print(letter)"
   ]
  },
  {
   "cell_type": "markdown",
   "id": "2914c59f-b432-4230-84f7-7e8613cba7bb",
   "metadata": {},
   "source": [
    "# range in function"
   ]
  },
  {
   "cell_type": "code",
   "execution_count": 6,
   "id": "020284e8-1b4a-4503-83d9-47cb792a0b24",
   "metadata": {},
   "outputs": [
    {
     "name": "stdout",
     "output_type": "stream",
     "text": [
      "0\n",
      "1\n",
      "2\n",
      "3\n",
      "4\n"
     ]
    }
   ],
   "source": [
    "for i in range(5):\n",
    "    print(i)"
   ]
  },
  {
   "cell_type": "code",
   "execution_count": 8,
   "id": "d02795e8-50d4-452e-823e-a0c4cf16d666",
   "metadata": {},
   "outputs": [
    {
     "name": "stdout",
     "output_type": "stream",
     "text": [
      "0\n",
      "2\n",
      "4\n",
      "6\n",
      "8\n"
     ]
    }
   ],
   "source": [
    "for i in range(0, 10, 2):\n",
    "    print(i)"
   ]
  },
  {
   "cell_type": "markdown",
   "id": "3f87f6ed-f5cb-454e-89cd-f0ad5a5a0648",
   "metadata": {},
   "source": [
    "# Using else with loop"
   ]
  },
  {
   "cell_type": "code",
   "execution_count": 9,
   "id": "1371d780-c242-4f3c-9437-a06f4b3ffbff",
   "metadata": {},
   "outputs": [
    {
     "name": "stdout",
     "output_type": "stream",
     "text": [
      "1\n",
      "2\n",
      "3\n",
      "4\n",
      "Loop completed without break.\n"
     ]
    }
   ],
   "source": [
    "for number in range(1, 5):\n",
    "    print(number)\n",
    "else:\n",
    "    print('Loop completed without break.') "
   ]
  },
  {
   "cell_type": "markdown",
   "id": "dc30c358-b510-40b4-99ea-f7a4ba1cfc59",
   "metadata": {},
   "source": [
    "# Generate its multiplication table"
   ]
  },
  {
   "cell_type": "code",
   "execution_count": 13,
   "id": "a67f14ce-8fec-4a15-a225-a8a06047ccb9",
   "metadata": {},
   "outputs": [
    {
     "name": "stdin",
     "output_type": "stream",
     "text": [
      "Enter a number to Generate its multiplication table:  78\n"
     ]
    },
    {
     "name": "stdout",
     "output_type": "stream",
     "text": [
      "Multiplication table of 78: \n",
      "78 X 1 = 78\n",
      "78 X 2 = 156\n",
      "78 X 3 = 234\n",
      "78 X 4 = 312\n",
      "78 X 5 = 390\n",
      "78 X 6 = 468\n",
      "78 X 7 = 546\n",
      "78 X 8 = 624\n",
      "78 X 9 = 702\n",
      "78 X 10 = 780\n"
     ]
    }
   ],
   "source": [
    "# Prompt the user to enter a number \n",
    "\n",
    "number = int(input(\"Enter a number to Generate its multiplication table: \"))\n",
    "\n",
    "# Print the multiplication table\n",
    "print(f\"Multiplication table of {number}: \")\n",
    "for i in range(1, 11):\n",
    "    print(f\"{number} X {i} = {number * i}\")"
   ]
  },
  {
   "cell_type": "code",
   "execution_count": null,
   "id": "a8ea9801-5ab0-40d3-af0b-29b71da8e8dc",
   "metadata": {},
   "outputs": [],
   "source": [
    "Write a Python program that iterates over the number from 1 to 50. For each number\n",
    "\n",
    "Print \"Fizz\" if the number is divisible by 3.\n",
    "Print \"Buzz\" if the number is divisible by 5.\n",
    "Print \"FizzBuzz\" if the number is divisible by both 3 and 5.\n",
    "Print the number itself it is not divisible by either 3 or 5."
   ]
  },
  {
   "cell_type": "code",
   "execution_count": 14,
   "id": "89369125-6ae0-4a8d-ba5b-cf487b8727e0",
   "metadata": {},
   "outputs": [
    {
     "name": "stdout",
     "output_type": "stream",
     "text": [
      "1\n",
      "2\n",
      "Fizz\n",
      "4\n",
      "Buzz\n",
      "Fizz\n",
      "7\n",
      "8\n",
      "Fizz\n",
      "Buzz\n",
      "11\n",
      "Fizz\n",
      "13\n",
      "14\n",
      "FizzBuzz\n",
      "16\n",
      "17\n",
      "Fizz\n",
      "19\n",
      "Buzz\n",
      "Fizz\n",
      "22\n",
      "23\n",
      "Fizz\n",
      "Buzz\n",
      "26\n",
      "Fizz\n",
      "28\n",
      "29\n",
      "FizzBuzz\n",
      "31\n",
      "32\n",
      "Fizz\n",
      "34\n",
      "Buzz\n",
      "Fizz\n",
      "37\n",
      "38\n",
      "Fizz\n",
      "Buzz\n",
      "41\n",
      "Fizz\n",
      "43\n",
      "44\n",
      "FizzBuzz\n",
      "46\n",
      "47\n",
      "Fizz\n",
      "49\n",
      "Buzz\n"
     ]
    }
   ],
   "source": [
    "# Iterate over numbers from 1 to 50 \n",
    "\n",
    "for number in range(1, 51):\n",
    "    # Check if number is divisible by both 3 and 5\n",
    "    if number % 3 == 0 and number % 5 == 0:\n",
    "        print(\"FizzBuzz\")\n",
    "    # Check if number is divisible by both 3\n",
    "    elif number % 3 == 0:\n",
    "        print(\"Fizz\")\n",
    "    # Check if number is divisible by both 5\n",
    "    elif number % 5 == 0:\n",
    "        print(\"Buzz\")\n",
    "    # If the number is not divisible by 3 or 5 \n",
    "    else:\n",
    "        print(number)\n",
    "        \n",
    "    \n",
    "    "
   ]
  },
  {
   "cell_type": "code",
   "execution_count": null,
   "id": "121643e2-7237-4e0d-a396-b5dd975e29ee",
   "metadata": {},
   "outputs": [],
   "source": [
    "You are tasked with creating program to assist \n",
    "shoppers in calculating their total bill at a grocery store.\n",
    "The store offers discounts based on the total purchase amount.\n",
    "Your task is to implement a Python program that takes the price \n",
    "of each item purchased and calculates the total bill, \n",
    "including any applicable discounts.\n",
    "\n",
    "The store offers the following discount rate \n",
    "based on the total purchase ampunt:\n",
    "\n",
    "If the total purchase amount is $100 or more,\n",
    "the customer receives a 10% discount.\n",
    "\n",
    "If the total purchase amount is between $50 and $99.99,\n",
    "the customer receives a 5% discount.\n",
    "\n",
    "If the total purchase amount is less than $50,\n",
    "no discount is applied.\n",
    "\n",
    "Write a Python program to prompt the user \n",
    "to enter the prices of the item they purchesed.\n",
    "Use for loop to iterate through the prices\n",
    "entered and calculate the subtotal.\n",
    "Apply the appropriate discount based \n",
    "on the total purchase amount using if-else statements.\n",
    "Finally, print out the subtotal, discount amount\n",
    "(if any), and total bill after applying the discount."
   ]
  },
  {
   "cell_type": "code",
   "execution_count": 18,
   "id": "cbd05563-5296-48c1-8456-3333918adbd7",
   "metadata": {},
   "outputs": [
    {
     "name": "stdin",
     "output_type": "stream",
     "text": [
      "Enter the number of items purchased:  1\n",
      "Enter the price of item 1:  51\n"
     ]
    },
    {
     "name": "stdout",
     "output_type": "stream",
     "text": [
      "\n",
      "--- Bill Summary ---\n",
      "Subtotal: $51.00\n",
      "Discount: $2.55\n",
      "Total Bill: $48.45\n"
     ]
    }
   ],
   "source": [
    "def calculate_total_bill():\n",
    "    num_items = int(input(\"Enter the number of items purchased: \"))\n",
    "    total_price = 0\n",
    "\n",
    "    for i in range(num_items):\n",
    "        price = float(input(f\"Enter the price of item {i + 1}: \"))\n",
    "        total_price += price\n",
    "\n",
    "    if total_price >= 100:\n",
    "        discount = 0.1 * total_price\n",
    "    elif 50 <= total_price < 100:\n",
    "        discount = 0.05 * total_price\n",
    "    else:\n",
    "        discount = 0\n",
    "\n",
    "    total_bill = total_price - discount\n",
    "\n",
    "    print(\"\\n--- Bill Summary ---\")\n",
    "    print(f\"Subtotal: ${total_price:.2f}\")\n",
    "    print(f\"Discount: ${discount:.2f}\")\n",
    "    print(f\"Total Bill: ${total_bill:.2f}\")\n",
    "\n",
    "# Run the program\n",
    "calculate_total_bill()\n"
   ]
  },
  {
   "cell_type": "code",
   "execution_count": null,
   "id": "c68d4e36-2162-425e-8af4-e6c9b2ebdc87",
   "metadata": {},
   "outputs": [],
   "source": []
  }
 ],
 "metadata": {
  "kernelspec": {
   "display_name": "Python 3 (ipykernel)",
   "language": "python",
   "name": "python3"
  },
  "language_info": {
   "codemirror_mode": {
    "name": "ipython",
    "version": 3
   },
   "file_extension": ".py",
   "mimetype": "text/x-python",
   "name": "python",
   "nbconvert_exporter": "python",
   "pygments_lexer": "ipython3",
   "version": "3.12.7"
  }
 },
 "nbformat": 4,
 "nbformat_minor": 5
}
