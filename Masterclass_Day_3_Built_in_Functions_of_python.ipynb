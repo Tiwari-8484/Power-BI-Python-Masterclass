{
 "cells": [
  {
   "cell_type": "markdown",
   "id": "7f3594cf-22fb-4f57-b624-aa33febfab88",
   "metadata": {},
   "source": [
    "# Day 3"
   ]
  },
  {
   "cell_type": "markdown",
   "id": "b5f244ec-3132-4275-a8ca-7ac5bffdc668",
   "metadata": {},
   "source": [
    "# Built in Functions"
   ]
  },
  {
   "cell_type": "markdown",
   "id": "918c5675-d6c6-4118-8ad8-c3aae5e9649e",
   "metadata": {},
   "source": [
    "# input function"
   ]
  },
  {
   "cell_type": "code",
   "execution_count": 2,
   "id": "33e7ef0e-5c9f-430d-9e2c-58400b439c41",
   "metadata": {},
   "outputs": [
    {
     "name": "stdin",
     "output_type": "stream",
     "text": [
      "please enter your name Ankit\n"
     ]
    },
    {
     "name": "stdout",
     "output_type": "stream",
     "text": [
      "Hello Ankit\n",
      "<class 'str'>\n"
     ]
    }
   ],
   "source": [
    "name = input(\"please enter your name\")\n",
    "print(\"Hello\", name)\n",
    "print(type(name))"
   ]
  },
  {
   "cell_type": "code",
   "execution_count": 3,
   "id": "11b2c778-a48d-472d-a533-813add2d51ae",
   "metadata": {},
   "outputs": [
    {
     "name": "stdin",
     "output_type": "stream",
     "text": [
      "please enter number 1 5\n",
      "please enter number 2 6\n"
     ]
    },
    {
     "name": "stdout",
     "output_type": "stream",
     "text": [
      "11\n"
     ]
    }
   ],
   "source": [
    "num1 = int(input(\"please enter number 1\"))\n",
    "num2 = int(input(\"please enter number 2\"))\n",
    "print(num1 + num2)"
   ]
  },
  {
   "cell_type": "markdown",
   "id": "2d3668a8-7b18-4007-841c-1e9527ff71df",
   "metadata": {},
   "source": [
    "# Pow function "
   ]
  },
  {
   "cell_type": "code",
   "execution_count": 5,
   "id": "327a8a88-d04f-4f8d-95e9-b64633f7515c",
   "metadata": {},
   "outputs": [
    {
     "name": "stdout",
     "output_type": "stream",
     "text": [
      "8\n"
     ]
    }
   ],
   "source": [
    "result = pow(2,3)\n",
    "print(result)\n"
   ]
  },
  {
   "cell_type": "code",
   "execution_count": 6,
   "id": "44a7d38d-46ee-445d-a684-cd1952ccfd4e",
   "metadata": {},
   "outputs": [
    {
     "name": "stdout",
     "output_type": "stream",
     "text": [
      "45.254833995939045\n"
     ]
    }
   ],
   "source": [
    "print(pow(2,5.5))"
   ]
  },
  {
   "cell_type": "code",
   "execution_count": 7,
   "id": "aaa6007b-b923-4220-80f3-76a9f0e5ec1d",
   "metadata": {},
   "outputs": [
    {
     "name": "stdout",
     "output_type": "stream",
     "text": [
      "4.702511808069328e+32\n"
     ]
    }
   ],
   "source": [
    "print(pow(4334.45674, 8.98348))"
   ]
  },
  {
   "cell_type": "markdown",
   "id": "840c2d0c-d024-43c4-8b92-c0518420d761",
   "metadata": {},
   "source": [
    "# abs function"
   ]
  },
  {
   "cell_type": "code",
   "execution_count": 9,
   "id": "14328e5e-eb7a-460b-915e-b82f43411465",
   "metadata": {},
   "outputs": [
    {
     "name": "stdout",
     "output_type": "stream",
     "text": [
      "100\n"
     ]
    }
   ],
   "source": [
    "num1 = -100\n",
    "result1 = abs(num1)\n",
    "print(result1)"
   ]
  },
  {
   "cell_type": "code",
   "execution_count": 11,
   "id": "22c81419-dd08-4de2-b003-88c0977fec5b",
   "metadata": {},
   "outputs": [
    {
     "name": "stdout",
     "output_type": "stream",
     "text": [
      "20\n"
     ]
    }
   ],
   "source": [
    "num2 = 20\n",
    "print(abs(num2))"
   ]
  },
  {
   "cell_type": "code",
   "execution_count": 12,
   "id": "1845a84e-beec-421b-a4ef-d7e0b17e32cf",
   "metadata": {},
   "outputs": [
    {
     "name": "stdout",
     "output_type": "stream",
     "text": [
      "36.89\n"
     ]
    }
   ],
   "source": [
    "num3 = -36.89\n",
    "print(abs(num3))"
   ]
  },
  {
   "cell_type": "code",
   "execution_count": 13,
   "id": "cc8eb2bd-caa1-453e-b875-c4f4061645a9",
   "metadata": {},
   "outputs": [
    {
     "name": "stdout",
     "output_type": "stream",
     "text": [
      "5.0\n"
     ]
    }
   ],
   "source": [
    "z = -3+4j\n",
    "print(abs(z))"
   ]
  },
  {
   "cell_type": "markdown",
   "id": "228819ff-2052-4d17-9faf-6cb2c19745e7",
   "metadata": {},
   "source": [
    "# len function"
   ]
  },
  {
   "cell_type": "code",
   "execution_count": 14,
   "id": "4243badf-b69d-4fe0-b78c-3ea422e5c84e",
   "metadata": {},
   "outputs": [
    {
     "name": "stdout",
     "output_type": "stream",
     "text": [
      "15\n"
     ]
    }
   ],
   "source": [
    "text = \"Hello I'm Ankit\"\n",
    "print(len(text))"
   ]
  },
  {
   "cell_type": "code",
   "execution_count": 15,
   "id": "929e437a-8df0-460c-9bf5-aa1d46b71f25",
   "metadata": {},
   "outputs": [
    {
     "name": "stdout",
     "output_type": "stream",
     "text": [
      "7\n"
     ]
    }
   ],
   "source": [
    "a = \"dog cat\" \n",
    "print(len(a))"
   ]
  },
  {
   "cell_type": "code",
   "execution_count": 16,
   "id": "2a67ec78-07d3-4bfb-8c86-f4395f2d897e",
   "metadata": {},
   "outputs": [
    {
     "name": "stdout",
     "output_type": "stream",
     "text": [
      "8\n"
     ]
    }
   ],
   "source": [
    "my_list = [25, 5, 8, 10, 20, 30, 40, 50]\n",
    "print(len(my_list))"
   ]
  },
  {
   "cell_type": "markdown",
   "id": "40cb81e8-3d3d-40a9-b12e-808c786d5655",
   "metadata": {},
   "source": [
    "# Binary Function"
   ]
  },
  {
   "cell_type": "code",
   "execution_count": 17,
   "id": "16ed3248-96c1-4294-9821-0fcbbdb2d065",
   "metadata": {},
   "outputs": [
    {
     "name": "stdout",
     "output_type": "stream",
     "text": [
      "0b1100\n"
     ]
    }
   ],
   "source": [
    "y = bin(12)\n",
    "print(y)"
   ]
  },
  {
   "cell_type": "code",
   "execution_count": 18,
   "id": "20f82eb0-0549-4a9a-911e-7060edc08123",
   "metadata": {},
   "outputs": [
    {
     "name": "stdout",
     "output_type": "stream",
     "text": [
      "0b10000011011000101011110000011010011100111111010110010011011000000\n"
     ]
    }
   ],
   "source": [
    "x = bin(18934672376973698752)\n",
    "print(x)"
   ]
  },
  {
   "cell_type": "markdown",
   "id": "023cabfc-cea9-45c1-811a-0f89b62dd214",
   "metadata": {},
   "source": [
    "# float function"
   ]
  },
  {
   "cell_type": "code",
   "execution_count": 20,
   "id": "7e6a5089-20a5-419e-b169-7423e4f7b8ca",
   "metadata": {},
   "outputs": [
    {
     "name": "stdout",
     "output_type": "stream",
     "text": [
      "6.0\n"
     ]
    }
   ],
   "source": [
    "a = 6 \n",
    "print(float(a))"
   ]
  },
  {
   "cell_type": "markdown",
   "id": "33f4b859-695b-404c-865e-ce189e088877",
   "metadata": {},
   "source": [
    "# str function"
   ]
  },
  {
   "cell_type": "code",
   "execution_count": 21,
   "id": "bebf732a-cd93-441d-9362-d7941f041a8e",
   "metadata": {},
   "outputs": [
    {
     "name": "stdout",
     "output_type": "stream",
     "text": [
      "53\n"
     ]
    }
   ],
   "source": [
    "a = 5 \n",
    "b = 3\n",
    "print(str(a) + str(b))"
   ]
  },
  {
   "cell_type": "markdown",
   "id": "c6a6d845-1b26-4db6-b5d9-f8e59886e2a5",
   "metadata": {},
   "source": [
    "# Complex function"
   ]
  },
  {
   "cell_type": "code",
   "execution_count": 22,
   "id": "2cc415d3-17aa-4bc8-86fa-9c4662d16ab3",
   "metadata": {},
   "outputs": [
    {
     "name": "stdout",
     "output_type": "stream",
     "text": [
      "(2+8j)\n"
     ]
    }
   ],
   "source": [
    "comp = complex(2, 8)\n",
    "print(comp)"
   ]
  },
  {
   "cell_type": "markdown",
   "id": "1248ecd8-c14a-4753-9c46-8a2dbc6bb9fc",
   "metadata": {},
   "source": [
    "# eval function"
   ]
  },
  {
   "cell_type": "code",
   "execution_count": 24,
   "id": "368878f0-2b58-4ba0-aed1-0ead5a1d2872",
   "metadata": {},
   "outputs": [
    {
     "name": "stdout",
     "output_type": "stream",
     "text": [
      "6.0\n"
     ]
    }
   ],
   "source": [
    "exp = '5/2+3.5'\n",
    "result = eval(exp)\n",
    "print(result)"
   ]
  },
  {
   "cell_type": "code",
   "execution_count": 26,
   "id": "cc991bb0-a145-47e4-aa9e-4fe7952ea885",
   "metadata": {},
   "outputs": [
    {
     "name": "stdout",
     "output_type": "stream",
     "text": [
      "5.7777777777777715\n"
     ]
    }
   ],
   "source": [
    "a = '(100*35)/45-36*2'\n",
    "print(eval(a))"
   ]
  },
  {
   "cell_type": "markdown",
   "id": "ec8be12b-8f28-4181-8190-c009b653f231",
   "metadata": {},
   "source": [
    "# help function"
   ]
  },
  {
   "cell_type": "code",
   "execution_count": 29,
   "id": "c8cbdb41-bcf8-47d8-8ab1-c18fb27970d2",
   "metadata": {},
   "outputs": [
    {
     "name": "stdout",
     "output_type": "stream",
     "text": [
      "Help on built-in function hash in module builtins:\n",
      "\n",
      "hash(obj, /)\n",
      "    Return the hash value for the given object.\n",
      "\n",
      "    Two objects that compare equal must also have the same hash value, but the\n",
      "    reverse is not necessarily true.\n",
      "\n"
     ]
    }
   ],
   "source": [
    "help(hash)"
   ]
  },
  {
   "cell_type": "code",
   "execution_count": null,
   "id": "20a19c22-c099-497c-983d-1a450d1d98e1",
   "metadata": {},
   "outputs": [],
   "source": []
  }
 ],
 "metadata": {
  "kernelspec": {
   "display_name": "Python 3 (ipykernel)",
   "language": "python",
   "name": "python3"
  },
  "language_info": {
   "codemirror_mode": {
    "name": "ipython",
    "version": 3
   },
   "file_extension": ".py",
   "mimetype": "text/x-python",
   "name": "python",
   "nbconvert_exporter": "python",
   "pygments_lexer": "ipython3",
   "version": "3.12.7"
  }
 },
 "nbformat": 4,
 "nbformat_minor": 5
}
