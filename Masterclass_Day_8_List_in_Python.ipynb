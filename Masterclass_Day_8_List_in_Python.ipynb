{
 "cells": [
  {
   "cell_type": "markdown",
   "id": "f3277cdd-1df2-4708-a293-d04ed8ffd1df",
   "metadata": {},
   "source": [
    "# List in Python"
   ]
  },
  {
   "cell_type": "code",
   "execution_count": 2,
   "id": "be92a390-f125-4aed-ac40-c2c47db9c049",
   "metadata": {},
   "outputs": [
    {
     "name": "stdout",
     "output_type": "stream",
     "text": [
      "[1, 2, 3, 4, 5, 6]\n",
      "<class 'list'>\n"
     ]
    }
   ],
   "source": [
    "a = [1,2,3,4,5,6]\n",
    "print(a)\n",
    "print(type(a))"
   ]
  },
  {
   "cell_type": "code",
   "execution_count": 3,
   "id": "f2bdf37a-5226-4bec-b6e9-6b8b8a2f2c6d",
   "metadata": {},
   "outputs": [
    {
     "name": "stdout",
     "output_type": "stream",
     "text": [
      "['hello', 1, True, 3.5]\n",
      "<class 'list'>\n"
     ]
    }
   ],
   "source": [
    "b = [ \"hello\", 1, True, 3.5]\n",
    "print(b)\n",
    "print(type(b))"
   ]
  },
  {
   "cell_type": "markdown",
   "id": "694864cf-f37e-4cc9-b3d4-cf6fd281dd39",
   "metadata": {},
   "source": [
    "# Empty list"
   ]
  },
  {
   "cell_type": "code",
   "execution_count": 4,
   "id": "a3d805ad-7d30-4445-bb27-443fcf7a9655",
   "metadata": {},
   "outputs": [
    {
     "name": "stdout",
     "output_type": "stream",
     "text": [
      "[]\n",
      "<class 'list'>\n"
     ]
    }
   ],
   "source": [
    "b = [ ]\n",
    "print(b)\n",
    "print(type(b))"
   ]
  },
  {
   "cell_type": "markdown",
   "id": "106fbf8b-df44-4691-a204-daf8710b3adf",
   "metadata": {},
   "source": [
    "# List Constructor"
   ]
  },
  {
   "cell_type": "code",
   "execution_count": 6,
   "id": "06f8d1f2-0867-407b-be4a-a314aab6f889",
   "metadata": {},
   "outputs": [
    {
     "name": "stdout",
     "output_type": "stream",
     "text": [
      "[1, 2, 3, 4, 5, 6]\n",
      "<class 'list'>\n"
     ]
    }
   ],
   "source": [
    "a = list((1,2,3,4,5,6))\n",
    "print(a)\n",
    "print(type(a))"
   ]
  },
  {
   "cell_type": "markdown",
   "id": "16cbed43-9230-413d-bfdd-51568826a0b1",
   "metadata": {},
   "source": [
    "# Properties of List"
   ]
  },
  {
   "cell_type": "markdown",
   "id": "28233a35-7a27-4a5e-976f-1c09e6b1628f",
   "metadata": {},
   "source": [
    "# 1. Ordered"
   ]
  },
  {
   "cell_type": "code",
   "execution_count": 11,
   "id": "d1e78c94-6f79-49d4-b0c2-5938a2f02145",
   "metadata": {},
   "outputs": [
    {
     "name": "stdout",
     "output_type": "stream",
     "text": [
      "Apple\n",
      "Mango\n",
      "Orange\n"
     ]
    }
   ],
   "source": [
    "fruits = [\"Apple\", \"Mango\", \"Orange\"]\n",
    "print(fruits[0]) \n",
    "print(fruits[1])\n",
    "print(fruits[2])"
   ]
  },
  {
   "cell_type": "markdown",
   "id": "56cf86fc-d614-4d94-9e5a-4db995f7ddec",
   "metadata": {},
   "source": [
    "# 2. Heterogeneous "
   ]
  },
  {
   "cell_type": "raw",
   "id": "c06b868c-f9f7-4c9a-8293-aa532916f403",
   "metadata": {},
   "source": [
    "Lists can contain elements of different data types, such as integers, strings, and even other lists."
   ]
  },
  {
   "cell_type": "code",
   "execution_count": 13,
   "id": "b1be1b06-1159-41a4-a0d5-e6da47ddf6b7",
   "metadata": {},
   "outputs": [
    {
     "name": "stdout",
     "output_type": "stream",
     "text": [
      "hello\n",
      "1\n",
      "True\n",
      "3.5\n"
     ]
    }
   ],
   "source": [
    "b = [ \"hello\", 1, True, 3.5]\n",
    "print(b[0])\n",
    "print(b[1])\n",
    "print(b[2])\n",
    "print(b[3])\n"
   ]
  },
  {
   "cell_type": "markdown",
   "id": "76de85d4-b72b-47e4-b7d0-808a01ebf0d0",
   "metadata": {},
   "source": [
    "# 3. Indexed"
   ]
  },
  {
   "cell_type": "raw",
   "id": "c0583617-6b1c-4308-83ef-6224eea8b6c8",
   "metadata": {},
   "source": [
    "Elements in a list can be accessed by their index, which start at 0. You can also use negative indices to access element from the end of the list"
   ]
  },
  {
   "cell_type": "code",
   "execution_count": 22,
   "id": "a69fe731-6054-4f35-84be-78fa7094163e",
   "metadata": {},
   "outputs": [
    {
     "name": "stdout",
     "output_type": "stream",
     "text": [
      "Accessing elements by index\n",
      "Cat\n",
      "Dog\n",
      "Accessing elements with negative index:\n",
      "Cow\n",
      "Elephant\n"
     ]
    }
   ],
   "source": [
    "# Example List\n",
    "animals = [\"Cat\", \"Dog\", \"Horse\", \"Elephant\", \"Cow\"]\n",
    "\n",
    "print('Accessing elements by index')\n",
    "print(animals[0])\n",
    "print(animals[1])\n",
    "\n",
    "print('Accessing elements with negative index:')\n",
    "print(animals[-1])\n",
    "print(animals[-2])\n",
    "\n"
   ]
  },
  {
   "cell_type": "markdown",
   "id": "61c5214f-c0de-4c19-94c7-e06d1b747ae2",
   "metadata": {},
   "source": [
    "# Slicing of list"
   ]
  },
  {
   "cell_type": "code",
   "execution_count": 24,
   "id": "fadbfeb3-be2b-4506-a409-134ca4668c63",
   "metadata": {},
   "outputs": [
    {
     "name": "stdout",
     "output_type": "stream",
     "text": [
      "[11, 12, 13, 14]\n"
     ]
    }
   ],
   "source": [
    "numbers = [10, 11, 12, 13, 14, 15, 16, 17, 18, 19, 20]\n",
    "subset = numbers[1:5]\n",
    "print(subset)"
   ]
  },
  {
   "cell_type": "code",
   "execution_count": 28,
   "id": "621b4f9a-f058-4a9e-b97c-ac4f0029b0c0",
   "metadata": {},
   "outputs": [
    {
     "name": "stdout",
     "output_type": "stream",
     "text": [
      "[10, 12, 14, 16, 18, 20]\n"
     ]
    }
   ],
   "source": [
    "numbers = [10, 11, 12, 13, 14, 15, 16, 17, 18, 19, 20]\n",
    "# Jaha tak mujhe slicing ki values chahey us ek aage ka index dena hota hai. JAISE yha mujhe 10th index chahey tha to 11 index diya hu\n",
    "subset = numbers[0:11:2]\n",
    "print(subset)"
   ]
  },
  {
   "cell_type": "markdown",
   "id": "188a10b9-1afe-4e05-9c1d-f65e15c85dda",
   "metadata": {},
   "source": [
    "# Using Negative Indeces "
   ]
  },
  {
   "cell_type": "code",
   "execution_count": 29,
   "id": "f78bd9f2-b498-40de-b9c2-f362260969f0",
   "metadata": {},
   "outputs": [
    {
     "name": "stdout",
     "output_type": "stream",
     "text": [
      "[16, 17, 18, 19, 20]\n"
     ]
    }
   ],
   "source": [
    "numbers = [10, 11, 12, 13, 14, 15, 16, 17, 18, 19, 20]\n",
    "subset = numbers[-5:]\n",
    "print(subset)"
   ]
  },
  {
   "cell_type": "markdown",
   "id": "b8a044e2-13df-498f-839d-a6aa517eef96",
   "metadata": {},
   "source": [
    "# Reverse in list"
   ]
  },
  {
   "cell_type": "code",
   "execution_count": 37,
   "id": "22016f6d-3646-48aa-ac4f-e3197cdd0852",
   "metadata": {},
   "outputs": [
    {
     "name": "stdout",
     "output_type": "stream",
     "text": [
      "[20, 19, 18, 17, 16, 15, 14, 13, 12, 11, 10]\n"
     ]
    }
   ],
   "source": [
    "numbers = [10, 11, 12, 13, 14, 15, 16, 17, 18, 19, 20]\n",
    "numbers.reverse()\n",
    "print(numbers)"
   ]
  },
  {
   "cell_type": "code",
   "execution_count": 32,
   "id": "f0f06e30-829a-4a62-8a1e-c9a3a717471f",
   "metadata": {},
   "outputs": [
    {
     "name": "stdout",
     "output_type": "stream",
     "text": [
      "[20, 19, 18, 17, 16, 15, 14, 13, 12, 11, 10]\n"
     ]
    }
   ],
   "source": [
    "numbers = [10, 11, 12, 13, 14, 15, 16, 17, 18, 19, 20]\n",
    "\n",
    "# Reverse the list using slicing\n",
    "reversed_numbers = numbers[::-1]\n",
    "\n",
    "print(reversed_numbers)\n"
   ]
  },
  {
   "cell_type": "markdown",
   "id": "be4920ed-9d2e-489f-a60c-9f5dad393843",
   "metadata": {},
   "source": [
    "# List Methods"
   ]
  },
  {
   "cell_type": "markdown",
   "id": "f18d4e67-3336-4183-8509-84e19d7f702e",
   "metadata": {},
   "source": [
    "# List length"
   ]
  },
  {
   "cell_type": "code",
   "execution_count": 36,
   "id": "befad9e4-6105-462b-b8bb-66839a6f98cb",
   "metadata": {},
   "outputs": [
    {
     "name": "stdout",
     "output_type": "stream",
     "text": [
      "10\n"
     ]
    }
   ],
   "source": [
    "a = [1,2,3,4,5,6, \"Fruits\", True, False, -77]\n",
    "print(len(a))"
   ]
  },
  {
   "cell_type": "markdown",
   "id": "00ad60fd-3da3-46a8-9f55-e4f05d2d70f8",
   "metadata": {},
   "source": [
    "# Mutability properties of lists"
   ]
  },
  {
   "cell_type": "markdown",
   "id": "413b9c98-92c8-4adb-8962-971680245225",
   "metadata": {},
   "source": [
    "# Changing Elements"
   ]
  },
  {
   "cell_type": "code",
   "execution_count": 38,
   "id": "dc85009f-93dc-4da2-9215-f0e8c6110538",
   "metadata": {},
   "outputs": [
    {
     "name": "stdout",
     "output_type": "stream",
     "text": [
      "[10, 11, 12, 1000, 14, 15, 16, 17, 18, 19, 20]\n"
     ]
    }
   ],
   "source": [
    "numbers = [10, 11, 12, 13, 14, 15, 16, 17, 18, 19, 20]\n",
    "numbers[3] = 1000\n",
    "print(numbers)"
   ]
  },
  {
   "cell_type": "markdown",
   "id": "bb638927-70cd-4543-9bea-b65f3bd20af4",
   "metadata": {},
   "source": [
    "# Change a Range of Item Value"
   ]
  },
  {
   "cell_type": "code",
   "execution_count": 39,
   "id": "65d02cc2-7d7f-42a8-8486-640bf49b2712",
   "metadata": {},
   "outputs": [
    {
     "name": "stdout",
     "output_type": "stream",
     "text": [
      "[10, 11, 'Books', 'Pen', 'Copy', 14, 15, 16, 17, 18, 19, 20]\n"
     ]
    }
   ],
   "source": [
    "numbers = [10, 11, 12, 13, 14, 15, 16, 17, 18, 19, 20]\n",
    "numbers[2:4] = [\"Books\", \"Pen\", \"Copy\"] \n",
    "print(numbers)\n"
   ]
  },
  {
   "cell_type": "markdown",
   "id": "338f0b41-c965-4e1e-ae5f-fe80a8fbf729",
   "metadata": {},
   "source": [
    "# add list items"
   ]
  },
  {
   "cell_type": "code",
   "execution_count": 40,
   "id": "4809cdf3-b8cc-4f50-b732-c88c833f79ae",
   "metadata": {},
   "outputs": [
    {
     "name": "stdout",
     "output_type": "stream",
     "text": [
      "['Apple', 'Banana', 'Cherry', 'Orange']\n"
     ]
    }
   ],
   "source": [
    "thislist = [\"Apple\", \"Banana\", \"Cherry\"]\n",
    "thislist.append(\"Orange\")\n",
    "print(thislist)"
   ]
  },
  {
   "cell_type": "markdown",
   "id": "bcc9d653-7054-4b60-8971-246b24df700c",
   "metadata": {},
   "source": [
    "# Remove List Items"
   ]
  },
  {
   "cell_type": "code",
   "execution_count": 41,
   "id": "f11e7370-a349-4559-8ba4-dd18f7c0c93f",
   "metadata": {},
   "outputs": [
    {
     "name": "stdout",
     "output_type": "stream",
     "text": [
      "['Apple', 'Cherry']\n"
     ]
    }
   ],
   "source": [
    "thislist = [\"Apple\", \"Banana\", \"Cherry\"]\n",
    "thislist.remove(\"Banana\")\n",
    "print(thislist)"
   ]
  },
  {
   "cell_type": "markdown",
   "id": "41704fc9-3673-4ecf-8caf-2a65c2487ee2",
   "metadata": {},
   "source": [
    "# Join List"
   ]
  },
  {
   "cell_type": "code",
   "execution_count": 44,
   "id": "dbaa3548-2bef-4d2f-b250-391829b2663a",
   "metadata": {},
   "outputs": [
    {
     "name": "stdout",
     "output_type": "stream",
     "text": [
      "['a', 'b', 'c', 1, 2, 3]\n",
      "[1, 2, 3, 'a', 'b', 'c']\n"
     ]
    }
   ],
   "source": [
    "list1 = [\"a\", \"b\", \"c\"]\n",
    "list2 = [1, 2, 3]\n",
    "\n",
    "list3 = list1 + list2\n",
    "print(list3)\n",
    "\n",
    "list4 = list2 + list1\n",
    "print(list4)"
   ]
  },
  {
   "cell_type": "markdown",
   "id": "191dba3c-9848-4e6b-8fba-ea2157a2e945",
   "metadata": {},
   "source": [
    "# Check if a list contains an element"
   ]
  },
  {
   "cell_type": "code",
   "execution_count": 45,
   "id": "60082094-f0c3-4c98-93d3-d823130fcd3f",
   "metadata": {},
   "outputs": [
    {
     "data": {
      "text/plain": [
       "True"
      ]
     },
     "execution_count": 45,
     "metadata": {},
     "output_type": "execute_result"
    }
   ],
   "source": [
    "li = [1, 2, 3, 'a', 'b', 'c']\n",
    "'a' in li"
   ]
  },
  {
   "cell_type": "code",
   "execution_count": 46,
   "id": "16d6185a-450b-4eb5-9a25-ae57b616907f",
   "metadata": {},
   "outputs": [
    {
     "data": {
      "text/plain": [
       "False"
      ]
     },
     "execution_count": 46,
     "metadata": {},
     "output_type": "execute_result"
    }
   ],
   "source": [
    "li = [1, 2, 3, 'a', 'b', 'c']\n",
    "'4' in li"
   ]
  },
  {
   "cell_type": "markdown",
   "id": "c66c71da-80d3-4d80-a164-71652dc97be0",
   "metadata": {},
   "source": [
    "# Practice Questions"
   ]
  },
  {
   "cell_type": "raw",
   "id": "7b2b5d68-70d0-4763-9065-8ab1070f04e2",
   "metadata": {},
   "source": [
    "Data Analysis Scenario: \n",
    "You have two lists containing exam score \n",
    "of students from two different classes. \n",
    "The lists are class1_scores & class2_scores.\n",
    "You need to analyze the performance \n",
    "of the classess by calculating the average score for each class.\n",
    "\n",
    "Write Python code to calculate the average score for each class.                                               "
   ]
  },
  {
   "cell_type": "code",
   "execution_count": 48,
   "id": "ff8a5643-e5df-4cfc-a270-24cf2c9b3f81",
   "metadata": {},
   "outputs": [
    {
     "name": "stdout",
     "output_type": "stream",
     "text": [
      "Average score of Class 1: 86.80\n",
      "Average score of Class 2: 85.40\n"
     ]
    }
   ],
   "source": [
    "# Exam scores of two different classes\n",
    "class1_scores = [85, 90, 78, 92, 88, 76, 95, 89, 84, 91]\n",
    "class2_scores = [80, 85, 88, 90, 79, 84, 87, 92, 86, 83]\n",
    "\n",
    "# Function to calculate the average score\n",
    "def calculate_average(scores):\n",
    "    return sum(scores) / len(scores)\n",
    "\n",
    "# Calculate averages\n",
    "average_class1 = calculate_average(class1_scores)\n",
    "average_class2 = calculate_average(class2_scores)\n",
    "\n",
    "# Print the results\n",
    "print(f\"Average score of Class 1: {average_class1:.2f}\")\n",
    "print(f\"Average score of Class 2: {average_class2:.2f}\")\n"
   ]
  },
  {
   "cell_type": "code",
   "execution_count": 49,
   "id": "1f53d663-38cb-4479-8719-6d4bea38eac5",
   "metadata": {},
   "outputs": [
    {
     "name": "stdout",
     "output_type": "stream",
     "text": [
      "Average score for Class 1:  86.6\n",
      "Average score for Class 2:  80.2\n"
     ]
    }
   ],
   "source": [
    "# Give lists of exam scores for two classes\n",
    "class1_scores = [85, 90, 88, 92, 78]\n",
    "class2_scores = [75, 82, 80, 85, 79]\n",
    "\n",
    "# Calculate the average score for class 1\n",
    "class1_average = sum(class1_scores) / len(class1_scores)\n",
    "\n",
    "# Calculate the average score for class 2\n",
    "class2_average = sum(class2_scores) / len(class2_scores)\n",
    "\n",
    "# Print the average scores for each class \n",
    "print(\"Average score for Class 1: \", class1_average)\n",
    "print(\"Average score for Class 2: \", class2_average)"
   ]
  },
  {
   "cell_type": "raw",
   "id": "c356a7b1-efff-4ffa-8dc6-270bc3f533bc",
   "metadata": {},
   "source": [
    "Question: Given the list number = [1, 2, 3, 4, 5, 6, 7, 8, ,9, 10]\n",
    "Write a Python Expression to: \n",
    "Create a new list with the first half  and the second half swapped.\n",
    "Print the sum of the last 3 elements.  "
   ]
  },
  {
   "cell_type": "code",
   "execution_count": 50,
   "id": "a98545e2-a3fb-46d7-8914-b27515666bda",
   "metadata": {},
   "outputs": [
    {
     "name": "stdout",
     "output_type": "stream",
     "text": [
      "Swapped List: [6, 7, 8, 9, 10, 1, 2, 3, 4, 5]\n",
      "Sum of last 3 elements: 12\n"
     ]
    }
   ],
   "source": [
    "# Given list\n",
    "numbers = [1, 2, 3, 4, 5, 6, 7, 8, 9, 10]\n",
    "\n",
    "# Finding the midpoint\n",
    "mid = len(numbers) // 2  \n",
    "\n",
    "# Swapping the first and second halves\n",
    "swapped_list = numbers[mid:] + numbers[:mid]\n",
    "\n",
    "# Calculating the sum of the last three elements\n",
    "sum_last_three = sum(swapped_list[-3:])\n",
    "\n",
    "# Printing results\n",
    "print(\"Swapped List:\", swapped_list)\n",
    "print(\"Sum of last 3 elements:\", sum_last_three)\n"
   ]
  },
  {
   "cell_type": "code",
   "execution_count": 52,
   "id": "21cf8dba-e362-4f5a-92d2-a11ee1802ec3",
   "metadata": {},
   "outputs": [
    {
     "name": "stdout",
     "output_type": "stream",
     "text": [
      "[6, 7, 8, 9, 10, 1, 2, 3, 4, 5]\n",
      "27\n"
     ]
    }
   ],
   "source": [
    "numbers = [1, 2, 3, 4, 5, 6, 7, 8, 9, 10]\n",
    "\n",
    "half_length = len(numbers) // \n",
    "swapped_list = numbers[half_length:] + numbers[:half_length]\n",
    "\n",
    "print(swapped_list)\n",
    "\n",
    "# Print the sum of the last three elements\n",
    "\n",
    "sum_last_three = sum(numbers[-3:])\n",
    "print(sum_last_three)"
   ]
  },
  {
   "cell_type": "code",
   "execution_count": 53,
   "id": "2b6e8c16-4b93-4095-9fb2-ecd9a8c93cbf",
   "metadata": {},
   "outputs": [
    {
     "name": "stdout",
     "output_type": "stream",
     "text": [
      "Second largest number: 45\n"
     ]
    }
   ],
   "source": [
    "# Find the second largest number in a List\n",
    "\n",
    "def second_largest(numbers):\n",
    "    unique_numbers = list(set(numbers))  # Remove duplicates\n",
    "    unique_numbers.sort(reverse=True)  # Sort in descending order\n",
    "    return unique_numbers[1] if len(unique_numbers) > 1 else None  # Return second largest\n",
    "\n",
    "# Example list\n",
    "numbers = [10, 20, 4, 45, 99, 99, 45, 8]\n",
    "\n",
    "# Find and print the second largest number\n",
    "result = second_largest(numbers)\n",
    "print(\"Second largest number:\", result)\n"
   ]
  },
  {
   "cell_type": "raw",
   "id": "afdc43ba-6ea2-4715-8779-ec9196b56fe7",
   "metadata": {},
   "source": [
    "Task: Data Cleaning \n",
    "You have a list responses containing response \n",
    "from a survey. However, some response are recoded \n",
    "as a empty string due to data entry errors. \n",
    "Your task is to remivw these empty responses from the list.\n",
    "\n",
    "Write python code to remove all empty responsliste "
   ]
  },
  {
   "cell_type": "code",
   "execution_count": 1,
   "id": "966ad56c-24b4-40f2-ac56-1a63a98ed1ed",
   "metadata": {},
   "outputs": [
    {
     "name": "stdout",
     "output_type": "stream",
     "text": [
      "Cleaned Responses: ['Yes', 'No', 'Maybe', 'Yes']\n"
     ]
    }
   ],
   "source": [
    "# Example list of responses (some are empty strings)\n",
    "responses = [\"Yes\", \"\", \"No\", \"Maybe\", \"\", \"Yes\", \"\"]\n",
    "\n",
    "# Remove empty strings from the list\n",
    "cleaned_responses = [response for response in responses if response != \"\"]\n",
    "\n",
    "# Print the cleaned list\n",
    "print(\"Cleaned Responses:\", cleaned_responses)\n"
   ]
  },
  {
   "cell_type": "code",
   "execution_count": 2,
   "id": "4d155cfe-5b9b-4edf-ae18-8e6a06651a66",
   "metadata": {},
   "outputs": [
    {
     "name": "stdout",
     "output_type": "stream",
     "text": [
      "Cleaned Responses: ['Yes', 'No', 'Maybe', 'Yes']\n"
     ]
    }
   ],
   "source": [
    "# List containing survey responses (some are empty strings)\n",
    "responses = [\"Yes\", \"\", \"No\", \"Maybe\", \"\", \"Yes\", \"\", \"\"]\n",
    "\n",
    "# Remove all empty responses\n",
    "cleaned_responses = [response for response in responses if response != \"\"]\n",
    "\n",
    "# Print cleaned list\n",
    "print(\"Cleaned Responses:\", cleaned_responses)\n"
   ]
  },
  {
   "cell_type": "markdown",
   "id": "8aa9c7c1-d8a0-4cfe-9823-392073652d11",
   "metadata": {},
   "source": [
    "1. Health and fitness tracking \n",
    "Lists can sore daily health metrics such as step count, heart rate and calories burned.  "
   ]
  },
  {
   "cell_type": "code",
   "execution_count": 3,
   "id": "ac2659e9-f3ee-463e-ba9c-5fdd857e7ccf",
   "metadata": {},
   "outputs": [
    {
     "name": "stdout",
     "output_type": "stream",
     "text": [
      "Average Step Count: 9843\n",
      "Average Heart Rate: 72.6 bpm\n",
      "Average Calories Burned: 282 kcal\n"
     ]
    }
   ],
   "source": [
    "# Daily health data for a week (7 days)\n",
    "step_count = [7500, 10200, 8700, 9500, 10000, 12000, 11000]\n",
    "heart_rate = [72, 75, 70, 68, 74, 76, 73]\n",
    "calories_burned = [220, 300, 270, 250, 310, 330, 295]\n",
    "\n",
    "# Calculate average for each metric\n",
    "avg_steps = sum(step_count) / len(step_count)\n",
    "avg_heart_rate = sum(heart_rate) / len(heart_rate)\n",
    "avg_calories = sum(calories_burned) / len(calories_burned)\n",
    "\n",
    "# Print the results\n",
    "print(f\"Average Step Count: {avg_steps:.0f}\")\n",
    "print(f\"Average Heart Rate: {avg_heart_rate:.1f} bpm\")\n",
    "print(f\"Average Calories Burned: {avg_calories:.0f} kcal\")\n"
   ]
  },
  {
   "cell_type": "markdown",
   "id": "9a5367e2-c052-4dc1-9d4a-7210bb881dcc",
   "metadata": {},
   "source": [
    "# Same Question step count, heart rate and calories taken by users."
   ]
  },
  {
   "cell_type": "code",
   "execution_count": 4,
   "id": "109415b2-039e-4cf2-a17e-831b5d88becc",
   "metadata": {},
   "outputs": [
    {
     "name": "stdout",
     "output_type": "stream",
     "text": [
      "\n",
      "Day 1\n"
     ]
    },
    {
     "name": "stdin",
     "output_type": "stream",
     "text": [
      "Enter step count:  6789\n",
      "Enter heart rate:  5677\n",
      "Enter calories burned:  5763\n"
     ]
    },
    {
     "name": "stdout",
     "output_type": "stream",
     "text": [
      "\n",
      "Day 2\n"
     ]
    },
    {
     "name": "stdin",
     "output_type": "stream",
     "text": [
      "Enter step count:  7355\n",
      "Enter heart rate:  4455\n",
      "Enter calories burned:  4455\n"
     ]
    },
    {
     "name": "stdout",
     "output_type": "stream",
     "text": [
      "\n",
      "Day 3\n"
     ]
    },
    {
     "name": "stdin",
     "output_type": "stream",
     "text": [
      "Enter step count:  8576\n",
      "Enter heart rate:  5566\n",
      "Enter calories burned:  2344\n"
     ]
    },
    {
     "name": "stdout",
     "output_type": "stream",
     "text": [
      "\n",
      "Day 4\n"
     ]
    },
    {
     "name": "stdin",
     "output_type": "stream",
     "text": [
      "Enter step count:  6345\n",
      "Enter heart rate:  6776\n",
      "Enter calories burned:  3767\n"
     ]
    },
    {
     "name": "stdout",
     "output_type": "stream",
     "text": [
      "\n",
      "Day 5\n"
     ]
    },
    {
     "name": "stdin",
     "output_type": "stream",
     "text": [
      "Enter step count:  3454\n",
      "Enter heart rate:  4566\n",
      "Enter calories burned:  7745\n"
     ]
    },
    {
     "name": "stdout",
     "output_type": "stream",
     "text": [
      "\n",
      "Day 6\n"
     ]
    },
    {
     "name": "stdin",
     "output_type": "stream",
     "text": [
      "Enter step count:  4566\n",
      "Enter heart rate:  4567\n",
      "Enter calories burned:  3265\n"
     ]
    },
    {
     "name": "stdout",
     "output_type": "stream",
     "text": [
      "\n",
      "Day 7\n"
     ]
    },
    {
     "name": "stdin",
     "output_type": "stream",
     "text": [
      "Enter step count:  9856\n",
      "Enter heart rate:  8267\n",
      "Enter calories burned:  2566\n"
     ]
    },
    {
     "name": "stdout",
     "output_type": "stream",
     "text": [
      "\n",
      "--- Weekly Health Summary ---\n",
      "Average Step Count: 6706\n",
      "Average Heart Rate: 5696.3 bpm\n",
      "Average Calories Burned: 4272 kcal\n"
     ]
    }
   ],
   "source": [
    "# Initialize empty lists\n",
    "step_count = []\n",
    "heart_rate = []\n",
    "calories_burned = []\n",
    "\n",
    "# Collect data for 7 days\n",
    "for i in range(1, 8):\n",
    "    print(f\"\\nDay {i}\")\n",
    "    steps = int(input(\"Enter step count: \"))\n",
    "    heart = int(input(\"Enter heart rate: \"))\n",
    "    calories = int(input(\"Enter calories burned: \"))\n",
    "    \n",
    "    step_count.append(steps)\n",
    "    heart_rate.append(heart)\n",
    "    calories_burned.append(calories)\n",
    "\n",
    "# Calculate averages\n",
    "avg_steps = sum(step_count) / 7\n",
    "avg_heart_rate = sum(heart_rate) / 7\n",
    "avg_calories = sum(calories_burned) / 7\n",
    "\n",
    "# Display results\n",
    "print(\"\\n--- Weekly Health Summary ---\")\n",
    "print(f\"Average Step Count: {avg_steps:.0f}\")\n",
    "print(f\"Average Heart Rate: {avg_heart_rate:.1f} bpm\")\n",
    "print(f\"Average Calories Burned: {avg_calories:.0f} kcal\")\n"
   ]
  },
  {
   "cell_type": "raw",
   "id": "e5233bf2-4407-45df-9024-da4ca4421a0b",
   "metadata": {},
   "source": [
    "2. Financial Management \n",
    "Lists can manage daily expenses and track spending pattern"
   ]
  },
  {
   "cell_type": "code",
   "execution_count": 8,
   "id": "a7546ccc-01e6-4a3c-978e-bfa1c09acfc9",
   "metadata": {},
   "outputs": [
    {
     "name": "stdin",
     "output_type": "stream",
     "text": [
      "Enter expense for Day 1: ₹ 254\n",
      "Enter expense for Day 2: ₹ 345\n"
     ]
    },
    {
     "name": "stdout",
     "output_type": "stream",
     "text": [
      "\n",
      "--- Weekly Financial Summary ---\n",
      "Total Spent: ₹599.00\n",
      "Average Daily Expense: ₹85.57\n",
      "Highest Spending: ₹345.00 on Day 2\n",
      "Lowest Spending: ₹254.00 on Day 1\n"
     ]
    }
   ],
   "source": [
    "### Initialize an empty list to store daily expenses\n",
    "expenses = []\n",
    "\n",
    "# Take input for 7 days\n",
    "for i in range(1, 3):\n",
    "    amount = float(input(f\"Enter expense for Day {i}: ₹\"))\n",
    "    expenses.append(amount)\n",
    "\n",
    "# Financial summary\n",
    "total_spent = sum(expenses)\n",
    "average_spent = total_spent / 7\n",
    "highest_spent = max(expenses)\n",
    "lowest_spent = min(expenses)\n",
    "day_highest = expenses.index(highest_spent) + 1\n",
    "day_lowest = expenses.index(lowest_spent) + 1\n",
    "\n",
    "# Display the results\n",
    "print(\"\\n--- Weekly Financial Summary ---\")\n",
    "print(f\"Total Spent: ₹{total_spent:.2f}\")\n",
    "print(f\"Average Daily Expense: ₹{average_spent:.2f}\")\n",
    "print(f\"Highest Spending: ₹{highest_spent:.2f} on Day {day_highest}\")\n",
    "print(f\"Lowest Spending: ₹{lowest_spent:.2f} on Day {day_lowest}\")\n"
   ]
  },
  {
   "cell_type": "raw",
   "id": "cb7794ed-e146-49bc-832f-f4f8b2d3ea6a",
   "metadata": {},
   "source": [
    "3. Weather Monitoring \n",
    "Lists can store daily weather data such as temperature, humidity and precipitation  "
   ]
  },
  {
   "cell_type": "code",
   "execution_count": 10,
   "id": "b3e1a40b-1b85-4c82-923d-8d4fb6828751",
   "metadata": {},
   "outputs": [
    {
     "name": "stdout",
     "output_type": "stream",
     "text": [
      "\n",
      "Day 1\n"
     ]
    },
    {
     "name": "stdin",
     "output_type": "stream",
     "text": [
      "Enter temperature (°C):  45\n",
      "Enter humidity (%):  67\n",
      "Enter precipitation (mm):  88\n"
     ]
    },
    {
     "name": "stdout",
     "output_type": "stream",
     "text": [
      "\n",
      "Day 2\n"
     ]
    },
    {
     "name": "stdin",
     "output_type": "stream",
     "text": [
      "Enter temperature (°C):  34\n",
      "Enter humidity (%):  34\n",
      "Enter precipitation (mm):  56\n"
     ]
    },
    {
     "name": "stdout",
     "output_type": "stream",
     "text": [
      "\n",
      "Day 3\n"
     ]
    },
    {
     "name": "stdin",
     "output_type": "stream",
     "text": [
      "Enter temperature (°C):  57\n",
      "Enter humidity (%):  76\n",
      "Enter precipitation (mm):  88\n"
     ]
    },
    {
     "name": "stdout",
     "output_type": "stream",
     "text": [
      "\n",
      "Day 4\n"
     ]
    },
    {
     "name": "stdin",
     "output_type": "stream",
     "text": [
      "Enter temperature (°C):  97\n",
      "Enter humidity (%):  96\n",
      "Enter precipitation (mm):  68\n"
     ]
    },
    {
     "name": "stdout",
     "output_type": "stream",
     "text": [
      "\n",
      "Day 5\n"
     ]
    },
    {
     "name": "stdin",
     "output_type": "stream",
     "text": [
      "Enter temperature (°C):  567\n",
      "Enter humidity (%):  57\n",
      "Enter precipitation (mm):  54\n"
     ]
    },
    {
     "name": "stdout",
     "output_type": "stream",
     "text": [
      "\n",
      "Day 6\n"
     ]
    },
    {
     "name": "stdin",
     "output_type": "stream",
     "text": [
      "Enter temperature (°C):  45\n",
      "Enter humidity (%):  54\n",
      "Enter precipitation (mm):  54\n"
     ]
    },
    {
     "name": "stdout",
     "output_type": "stream",
     "text": [
      "\n",
      "Day 7\n"
     ]
    },
    {
     "name": "stdin",
     "output_type": "stream",
     "text": [
      "Enter temperature (°C):  57\n",
      "Enter humidity (%):  74\n",
      "Enter precipitation (mm):  53\n"
     ]
    },
    {
     "name": "stdout",
     "output_type": "stream",
     "text": [
      "\n",
      "--- Weekly Weather Summary ---\n",
      "Average Temperature: 128.9°C\n",
      "Average Humidity: 65.4%\n",
      "Total Precipitation: 461.0 mm\n"
     ]
    }
   ],
   "source": [
    "# Initialize empty lists for weather data\n",
    "temperature = []\n",
    "humidity = []\n",
    "precipitation = []\n",
    "\n",
    "# Collect weather data for 7 days\n",
    "for i in range(1, 8):\n",
    "    print(f\"\\nDay {i}\")\n",
    "    temp = float(input(\"Enter temperature (°C): \"))\n",
    "    hum = float(input(\"Enter humidity (%): \"))\n",
    "    rain = float(input(\"Enter precipitation (mm): \"))\n",
    "    \n",
    "    temperature.append(temp)\n",
    "    humidity.append(hum)\n",
    "    precipitation.append(rain)\n",
    "\n",
    "# Calculate averages\n",
    "avg_temp = sum(temperature) / 7\n",
    "avg_humidity = sum(humidity) / 7\n",
    "total_rain = sum(precipitation)\n",
    "\n",
    "# Display weather summary\n",
    "print(\"\\n--- Weekly Weather Summary ---\")\n",
    "print(f\"Average Temperature: {avg_temp:.1f}°C\")\n",
    "print(f\"Average Humidity: {avg_humidity:.1f}%\")\n",
    "print(f\"Total Precipitation: {total_rain:.1f} mm\")\n"
   ]
  },
  {
   "cell_type": "raw",
   "id": "e83d9e54-c72f-4ea8-b22b-ec6702b29130",
   "metadata": {},
   "source": [
    "4. Education \n",
    "Lists can help track student's grade and attendence."
   ]
  },
  {
   "cell_type": "code",
   "execution_count": 14,
   "id": "c22a3a19-e628-43a7-81b9-521fc2c457b8",
   "metadata": {},
   "outputs": [
    {
     "name": "stdout",
     "output_type": "stream",
     "text": [
      "\n",
      "Student 1\n"
     ]
    },
    {
     "name": "stdin",
     "output_type": "stream",
     "text": [
      "Enter student name:  Ankit Tiwari\n",
      "Enter grade (out of 100):  99.11\n",
      "Enter attendance percentage:  89.22\n"
     ]
    },
    {
     "name": "stdout",
     "output_type": "stream",
     "text": [
      "\n",
      "Student 2\n"
     ]
    },
    {
     "name": "stdin",
     "output_type": "stream",
     "text": [
      "Enter student name:  Ramesh\n",
      "Enter grade (out of 100):  67.88\n",
      "Enter attendance percentage:  88.33\n"
     ]
    },
    {
     "name": "stdout",
     "output_type": "stream",
     "text": [
      "\n",
      "--- Class Summary ---\n",
      "Average Grade: 83.50\n",
      "Average Attendance: 88.78%\n",
      "Top Performer: Ankit Tiwari with 99.11 marks\n"
     ]
    }
   ],
   "source": [
    "##### Initialize empty lists\n",
    "student_names = []\n",
    "grades = []\n",
    "attendance = []\n",
    "\n",
    "# Input data for 5 students\n",
    "for i in range(1, 3):\n",
    "    print(f\"\\nStudent {i}\")\n",
    "    name = input(\"Enter student name: \")\n",
    "    grade = float(input(\"Enter grade (out of 100): \"))\n",
    "    attend = float(input(\"Enter attendance percentage: \"))\n",
    "    \n",
    "    student_names.append(name)\n",
    "    grades.append(grade)\n",
    "    attendance.append(attend)\n",
    "\n",
    "# Calculate class average\n",
    "avg_grade = sum(grades) / len(grades)\n",
    "avg_attendance = sum(attendance) / len(attendance)\n",
    "\n",
    "# Find top performer\n",
    "top_index = grades.index(max(grades))\n",
    "top_student = student_names[top_index]\n",
    "\n",
    "# Display summary\n",
    "print(\"\\n--- Class Summary ---\")\n",
    "print(f\"Average Grade: {avg_grade:.2f}\")\n",
    "print(f\"Average Attendance: {avg_attendance:.2f}%\")\n",
    "print(f\"Top Performer: {top_student} with {grades[top_index]} marks\")\n"
   ]
  },
  {
   "cell_type": "raw",
   "id": "7730008b-5b00-4148-9189-573b8d2a3d56",
   "metadata": {},
   "source": [
    "5. Shopping and Inventory Management\n",
    "Lists can keep track of items to buy and manage inventory."
   ]
  },
  {
   "cell_type": "code",
   "execution_count": 15,
   "id": "b190db2c-bd46-4b62-a564-6f65c9235d23",
   "metadata": {},
   "outputs": [
    {
     "name": "stdin",
     "output_type": "stream",
     "text": [
      "Enter number of items to manage:  2\n"
     ]
    },
    {
     "name": "stdout",
     "output_type": "stream",
     "text": [
      "\n",
      "Item 1\n"
     ]
    },
    {
     "name": "stdin",
     "output_type": "stream",
     "text": [
      "Enter item name:  Maggi\n",
      "Enter quantity:  5\n",
      "Enter price per unit: ₹ 87\n"
     ]
    },
    {
     "name": "stdout",
     "output_type": "stream",
     "text": [
      "\n",
      "Item 2\n"
     ]
    },
    {
     "name": "stdin",
     "output_type": "stream",
     "text": [
      "Enter item name:  Pasta \n",
      "Enter quantity:  50\n",
      "Enter price per unit: ₹ 500\n"
     ]
    },
    {
     "name": "stdout",
     "output_type": "stream",
     "text": [
      "\n",
      "--- Inventory Summary ---\n",
      "Maggi - Qty: 5, Price: ₹87.0, Value: ₹435.00\n",
      "Pasta  - Qty: 50, Price: ₹500.0, Value: ₹25000.00\n",
      "\n",
      "Total Inventory Value: ₹25435.00\n",
      "\n",
      "Out-of-Stock Items:\n"
     ]
    }
   ],
   "source": [
    "# Initialize empty lists\n",
    "items = []\n",
    "quantities = []\n",
    "prices = []\n",
    "\n",
    "# Take input for inventory\n",
    "n = int(input(\"Enter number of items to manage: \"))\n",
    "\n",
    "for i in range(n):\n",
    "    print(f\"\\nItem {i+1}\")\n",
    "    item = input(\"Enter item name: \")\n",
    "    qty = int(input(\"Enter quantity: \"))\n",
    "    price = float(input(\"Enter price per unit: ₹\"))\n",
    "    \n",
    "    items.append(item)\n",
    "    quantities.append(qty)\n",
    "    prices.append(price)\n",
    "\n",
    "# Show inventory\n",
    "print(\"\\n--- Inventory Summary ---\")\n",
    "total_value = 0\n",
    "for i in range(n):\n",
    "    item_value = quantities[i] * prices[i]\n",
    "    total_value += item_value\n",
    "    print(f\"{items[i]} - Qty: {quantities[i]}, Price: ₹{prices[i]}, Value: ₹{item_value:.2f}\")\n",
    "\n",
    "print(f\"\\nTotal Inventory Value: ₹{total_value:.2f}\")\n",
    "\n",
    "# Optional: Find out-of-stock items\n",
    "print(\"\\nOut-of-Stock Items:\")\n",
    "for i in range(n):\n",
    "    if quantities[i] == 0:\n",
    "        print(f\"- {items[i]}\")\n"
   ]
  },
  {
   "cell_type": "raw",
   "id": "086d988f-c022-4b40-8d9d-59b01c52e07d",
   "metadata": {},
   "source": [
    "6. Social Media Analysis \n",
    "Lists can analyze engagement metrics likes, comments, and shares."
   ]
  },
  {
   "cell_type": "code",
   "execution_count": null,
   "id": "4d5e9c43-094c-4c1c-aec6-e39d1e1bbdc6",
   "metadata": {},
   "outputs": [
    {
     "name": "stdout",
     "output_type": "stream",
     "text": [
      "\n",
      "Post 1\n"
     ]
    },
    {
     "name": "stdin",
     "output_type": "stream",
     "text": [
      "Enter number of likes:  357\n",
      "Enter number of comments:  234\n",
      "Enter number of shares:  45\n"
     ]
    },
    {
     "name": "stdout",
     "output_type": "stream",
     "text": [
      "\n",
      "Post 2\n"
     ]
    },
    {
     "name": "stdin",
     "output_type": "stream",
     "text": [
      "Enter number of likes:  785\n",
      "Enter number of comments:  345\n",
      "Enter number of shares:  45\n"
     ]
    },
    {
     "name": "stdout",
     "output_type": "stream",
     "text": [
      "\n",
      "Post 3\n"
     ]
    }
   ],
   "source": [
    "# Initialize empty lists\n",
    "likes = []\n",
    "comments = []\n",
    "shares = []\n",
    "\n",
    "# Input engagement data for 5 posts\n",
    "for i in range(1, 6):\n",
    "    print(f\"\\nPost {i}\")\n",
    "    l = int(input(\"Enter number of likes: \"))\n",
    "    c = int(input(\"Enter number of comments: \"))\n",
    "    s = int(input(\"Enter number of shares: \"))\n",
    "    \n",
    "    likes.append(l)\n",
    "    comments.append(c)\n",
    "    shares.append(s)\n",
    "\n",
    "# Calculate total and average\n",
    "total_likes = sum(likes)\n",
    "total_comments = sum(comments)\n",
    "total_shares = sum(shares)\n",
    "\n",
    "avg_likes = total_likes / 5\n",
    "avg_comments = total_comments / 5\n",
    "avg_shares = total_shares / 5\n",
    "\n",
    "# Engagement score per post (likes + 2*comments + 3*shares)\n",
    "engagement_scores = []\n",
    "for i in range(5):\n",
    "    score = likes[i] + 2 * comments[i] + 3 * shares[i]\n",
    "    engagement_scores.append(score)\n",
    "\n",
    "# Find the most engaging post\n",
    "max_score = max(engagement_scores)\n",
    "best_post = engagement_scores.index(max_score) + 1\n",
    "\n",
    "# Display results\n",
    "print(\"\\n--- Social Media Engagement Summary ---\")\n",
    "print(f\"Average Likes: {avg_likes:.1f}\")\n",
    "print(f\"Average Comments: {avg_comments:.1f}\")\n",
    "print(f\"Average Shares: {avg_shares:.1f}\")\n",
    "print(f\"Most Engaging Post: Post {best_post} with a score of {max_score}\")\n"
   ]
  },
  {
   "cell_type": "code",
   "execution_count": null,
   "id": "1f051a82-e1aa-4f93-84f6-0a7c511f82d2",
   "metadata": {},
   "outputs": [],
   "source": []
  }
 ],
 "metadata": {
  "kernelspec": {
   "display_name": "Python 3 (ipykernel)",
   "language": "python",
   "name": "python3"
  },
  "language_info": {
   "codemirror_mode": {
    "name": "ipython",
    "version": 3
   },
   "file_extension": ".py",
   "mimetype": "text/x-python",
   "name": "python",
   "nbconvert_exporter": "python",
   "pygments_lexer": "ipython3",
   "version": "3.12.7"
  }
 },
 "nbformat": 4,
 "nbformat_minor": 5
}
