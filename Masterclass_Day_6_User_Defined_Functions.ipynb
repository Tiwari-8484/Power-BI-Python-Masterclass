{
 "cells": [
  {
   "cell_type": "markdown",
   "id": "9cb333b6-8170-453d-9d63-9de5f709f8ff",
   "metadata": {},
   "source": [
    "# Day 6 User Define Function"
   ]
  },
  {
   "cell_type": "code",
   "execution_count": 6,
   "id": "d2b4094f-046b-4e70-bf47-7eeae8c2ad80",
   "metadata": {},
   "outputs": [
    {
     "name": "stdout",
     "output_type": "stream",
     "text": [
      "Hello I'm Ankit\n"
     ]
    }
   ],
   "source": [
    "def greet():\n",
    "    print(\"Hello I'm Ankit\")\n",
    "\n",
    "greet()"
   ]
  },
  {
   "cell_type": "code",
   "execution_count": null,
   "id": "ffdf410a-1171-4293-8350-d36ac32b259b",
   "metadata": {},
   "outputs": [
    {
     "name": "stdin",
     "output_type": "stream",
     "text": [
      "Enter the name of the customer:  Ankit\n",
      "Enter the units of electricity consumed:  76\n"
     ]
    },
    {
     "name": "stdout",
     "output_type": "stream",
     "text": [
      "Total amount to be paid for the electricity bill: RS 760\n",
      "The last date of paying the bill is 20 April\n",
      "After deadline you need to pay a fine of RS 1000\n",
      "Pay your bill soon\n"
     ]
    },
    {
     "name": "stdin",
     "output_type": "stream",
     "text": [
      "Enter the name of the customer:  Pinky\n",
      "Enter the units of electricity consumed:  565\n"
     ]
    },
    {
     "name": "stdout",
     "output_type": "stream",
     "text": [
      "Total amount to be paid for the electricity bill: RS 5650\n",
      "The last date of paying the bill is 20 April\n",
      "After deadline you need to pay a fine of RS 1000\n",
      "Pay your bill soon\n"
     ]
    }
   ],
   "source": [
    "def details_bill():\n",
    "    print(\"The last date of paying the bill is 20 April\")\n",
    "    print(\"After deadline you need to pay a fine of RS 1000\")\n",
    "    print(\"Pay your bill soon\")\n",
    "\n",
    "\n",
    "for i in range(3):\n",
    "    a = input(\"Enter the name of the customer: \")  # Added colon for clarity\n",
    "    n = int(input(\"Enter the units of electricity consumed: \"))  # Proper spacing for readability\n",
    "    bill = n * 10  # Space between operator\n",
    "    print(f\"Total amount to be paid for the electricity bill: RS {bill}\")  # Improved message format\n",
    "    details_bill()  # Function call remains unchanged\n"
   ]
  },
  {
   "cell_type": "markdown",
   "id": "a6ed1853-cf41-4c9c-b31d-1cc66894335b",
   "metadata": {},
   "source": [
    "# Arguments "
   ]
  },
  {
   "cell_type": "markdown",
   "id": "91a7ee5b-f66e-46b5-919e-cc4aa1999077",
   "metadata": {},
   "source": [
    "# Creating a function that checks if a number is even or odd"
   ]
  },
  {
   "cell_type": "code",
   "execution_count": 5,
   "id": "daf8961d-5a32-4fcc-94b5-893077a6262c",
   "metadata": {},
   "outputs": [
    {
     "name": "stdin",
     "output_type": "stream",
     "text": [
      "Enter a number:  43\n"
     ]
    },
    {
     "name": "stdout",
     "output_type": "stream",
     "text": [
      "43 is odd\n"
     ]
    }
   ],
   "source": [
    "def check_even_odd(number):\n",
    "    if number % 2 == 0: \n",
    "        print(f\"{number} is even\")\n",
    "    else:\n",
    "        print(f\"{number} is odd\")\n",
    "\n",
    "# Calling the function with an input number\n",
    "num = int(input(\"Enter a number: \"))\n",
    "check_even_odd(num)\n"
   ]
  },
  {
   "cell_type": "markdown",
   "id": "23ec2d30-be74-468a-862b-d457674b0d0e",
   "metadata": {},
   "source": [
    "# Double Arguments"
   ]
  },
  {
   "cell_type": "code",
   "execution_count": 11,
   "id": "b989a075-31a8-418c-8020-e6616f9a0d75",
   "metadata": {},
   "outputs": [
    {
     "name": "stdin",
     "output_type": "stream",
     "text": [
      "Enter first number:  12\n",
      "Enter second number:  12\n"
     ]
    },
    {
     "name": "stdout",
     "output_type": "stream",
     "text": [
      "Both numbers are equal\n"
     ]
    }
   ],
   "source": [
    "def check_greater(num1, num2):\n",
    "    if num1 > num2:\n",
    "        print(f\"{num1} is greater than {num2}\")\n",
    "    elif num2 > num1:\n",
    "        print(f\"{num2} is greater than {num1}\")\n",
    "    else:\n",
    "        print(\"Both numbers are equal\")\n",
    "\n",
    "# Taking two numbers as input from the user\n",
    "num1 = int(input(\"Enter first number: \"))\n",
    "num2 = int(input(\"Enter second number: \"))\n",
    "\n",
    "# Calling the function with two arguments\n",
    "check_greater(num1, num2)\n"
   ]
  },
  {
   "cell_type": "code",
   "execution_count": 8,
   "id": "3fc30693-7b86-4433-b268-0f19898b054f",
   "metadata": {},
   "outputs": [
    {
     "name": "stdout",
     "output_type": "stream",
     "text": [
      "Even number\n"
     ]
    }
   ],
   "source": [
    "def chceck_even_odd(number):\n",
    "    if number % 2 == 0:\n",
    "        print(\"Even number\")\n",
    "    else:\n",
    "        print(\"Odd number\")\n"
   ]
  },
  {
   "cell_type": "code",
   "execution_count": 9,
   "id": "7954b772-9eee-4769-9fbb-a7a40ce3a6cb",
   "metadata": {},
   "outputs": [
    {
     "name": "stdout",
     "output_type": "stream",
     "text": [
      "Odd number\n"
     ]
    }
   ],
   "source": [
    "chceck_even_odd(11)\n"
   ]
  },
  {
   "cell_type": "markdown",
   "id": "b956b735-6e22-498d-a0be-e8dc5b405de8",
   "metadata": {},
   "source": [
    "# Using return "
   ]
  },
  {
   "cell_type": "code",
   "execution_count": 16,
   "id": "7b663394-6e67-4cd3-aab2-3c543c86858d",
   "metadata": {},
   "outputs": [
    {
     "data": {
      "text/plain": [
       "23"
      ]
     },
     "execution_count": 16,
     "metadata": {},
     "output_type": "execute_result"
    }
   ],
   "source": [
    "def find_max(num1, num2):\n",
    "    if num1 > num2:\n",
    "        return num1\n",
    "    else:\n",
    "        return num2\n",
    "find_max(12, 23)\n",
    "\n",
    "        "
   ]
  },
  {
   "cell_type": "code",
   "execution_count": 10,
   "id": "6f08ca01-560c-4c76-8516-3c849fdf9a7e",
   "metadata": {},
   "outputs": [
    {
     "name": "stdout",
     "output_type": "stream",
     "text": [
      "Even number\n"
     ]
    }
   ],
   "source": [
    "chceck_even_odd(10)"
   ]
  },
  {
   "cell_type": "code",
   "execution_count": 17,
   "id": "ac3dc44d-e929-45cc-bdae-4b9cf0e8bbb3",
   "metadata": {},
   "outputs": [
    {
     "data": {
      "text/plain": [
       "24"
      ]
     },
     "execution_count": 17,
     "metadata": {},
     "output_type": "execute_result"
    }
   ],
   "source": [
    "find_max(24, 23)"
   ]
  },
  {
   "cell_type": "code",
   "execution_count": null,
   "id": "9e61ad0d-364e-4219-bbe2-fa993e953a4a",
   "metadata": {},
   "outputs": [],
   "source": [
    "A company gives a bonus to on their years of service:\n",
    "\n",
    "If an employee has work more than 10 years, they get a 50,000 bonus.\n",
    "If they have worked between 5 to 10 years, they get RS.25,000 bonus. \n",
    "If they have worked for less than 5 years, they get RS. 10,000 bonus.\n",
    "\n",
    "Write a function that takes the number of years an employee has worked and returns the bonus amount. "
   ]
  },
  {
   "cell_type": "code",
   "execution_count": 20,
   "id": "3a612e20-53bb-4ba4-b3a2-1138eb145939",
   "metadata": {},
   "outputs": [
    {
     "name": "stdin",
     "output_type": "stream",
     "text": [
      "Enter the number of years you have worked:  3\n"
     ]
    },
    {
     "name": "stdout",
     "output_type": "stream",
     "text": [
      "Your bonus amount is: RS. 10000\n"
     ]
    }
   ],
   "source": [
    "def calculate_bonus(years_of_service):\n",
    "    if years_of_service > 10:\n",
    "        return 50000\n",
    "    elif 5 <= years_of_service <= 10:\n",
    "        return 25000\n",
    "    else:\n",
    "        return 10000\n",
    "\n",
    "# Taking input from the user\n",
    "years = int(input(\"Enter the number of years you have worked: \"))\n",
    "\n",
    "# Calling the function and printing the result\n",
    "bonus = calculate_bonus(years)\n",
    "print(f\"Your bonus amount is: RS. {bonus}\")\n"
   ]
  },
  {
   "cell_type": "code",
   "execution_count": null,
   "id": "b6896c8f-c16d-4ba4-b521-7376a985c444",
   "metadata": {},
   "outputs": [],
   "source": [
    "A smart water meter gives alert based on daily water usage:\n",
    "\n",
    "If usage is below 100 liters, return \"Low Consumption\".\n",
    "If usage is between 100 to 500 liters, return \"Normal Consumption\".\n",
    "If usage is above 500 liters, return \"Heigh Consumption! Save Water.\".\n",
    "\n",
    "Write a function that takes water usage in liters as input and returns an alert message. solve this problem"
   ]
  },
  {
   "cell_type": "code",
   "execution_count": 30,
   "id": "87ee98d7-6bfa-405b-bc6d-03280da71029",
   "metadata": {},
   "outputs": [
    {
     "name": "stdin",
     "output_type": "stream",
     "text": [
      "Enter daily water usage in liters:  501\n"
     ]
    },
    {
     "name": "stdout",
     "output_type": "stream",
     "text": [
      "Alert: High Consumption! Save Water.\n"
     ]
    }
   ],
   "source": [
    "def water_usage_alert(liters):\n",
    "    if liters < 100:\n",
    "        return \"Low Consumption\"\n",
    "    elif 100 <= liters <= 500:\n",
    "        return \"Normal Consumption\"\n",
    "    else:\n",
    "        return \"High Consumption! Save Water.\"\n",
    "\n",
    "# Taking user input\n",
    "usage = float(input(\"Enter daily water usage in liters: \"))\n",
    "\n",
    "# Calling the function and printing the alert message\n",
    "# alert = water_usage_alert(usage)\n",
    "print(\"Alert:\", water_usage_alert(usage))\n"
   ]
  },
  {
   "cell_type": "code",
   "execution_count": null,
   "id": "9d0a84a3-f517-4a04-b32e-07532e3200a7",
   "metadata": {},
   "outputs": [],
   "source": [
    "A University offers a scholarship to students based on the following conditions:\n",
    "\n",
    "If a student has a CGPA of 9.0 or above an dtheir family income is below RS 5,00,000, they get 100% scholarship.\n",
    "If a student has a CGPA between 8.0 and 9.0 above an dtheir family income is below RS 8,00,000, they get 50% scholarship. \n",
    "Otherwise, the student is not eligible for a scholarschip.\n",
    "\n",
    "Write a paython function that takes CGPA and family income as input and returns the scholarship percentage."
   ]
  },
  {
   "cell_type": "code",
   "execution_count": 32,
   "id": "c5ebbf71-5fc5-49ff-9eac-dfd3cd999195",
   "metadata": {},
   "outputs": [
    {
     "name": "stdin",
     "output_type": "stream",
     "text": [
      "Enter your CGPA:  9.5\n",
      "Enter your family income (in Rs):  400000\n"
     ]
    },
    {
     "name": "stdout",
     "output_type": "stream",
     "text": [
      "100% Scholarship\n"
     ]
    }
   ],
   "source": [
    "def calculate_scholarship(cgpa, family_income):\n",
    "    if cgpa >= 9.0 and family_income < 500000:\n",
    "        return \"100% Scholarship\"\n",
    "    elif 8.0 <= cgpa < 9.0 and family_income < 800000:\n",
    "        return \"50% Scholarship\"\n",
    "    else:\n",
    "        return \"Not eligible for a scholarship\"\n",
    "\n",
    "# Taking user input\n",
    "cgpa = float(input(\"Enter your CGPA: \"))\n",
    "income = int(input(\"Enter your family income (in Rs): \"))\n",
    "\n",
    "# Calling the function and printing the result\n",
    "scholarship = calculate_scholarship(cgpa, income)\n",
    "print(scholarship)\n"
   ]
  },
  {
   "cell_type": "code",
   "execution_count": null,
   "id": "1b51ed89-e178-4238-8530-4291cdb26b68",
   "metadata": {},
   "outputs": [],
   "source": [
    "Bank Lone Eligiblity \n",
    "   Sitution: A bank approves a lone based on the following conditions:\n",
    "\n",
    "If the person's salary is RS. 50,000 or more and their credit score is 700 or above, they are eligible for lone. Otherwise, they are not eligble.\n",
    "Write a function that takes salary and credit score as a input and returns whether the person is eligble or not."
   ]
  },
  {
   "cell_type": "code",
   "execution_count": 34,
   "id": "e209c0eb-22c9-4ba7-aef6-462192351d0b",
   "metadata": {},
   "outputs": [
    {
     "name": "stdin",
     "output_type": "stream",
     "text": [
      "Enter your monthly salary (in Rs):  30000\n",
      "Enter your credit score:  400\n"
     ]
    },
    {
     "name": "stdout",
     "output_type": "stream",
     "text": [
      "Not Eligible for Loan\n"
     ]
    }
   ],
   "source": [
    "def check_loan_eligibility(salary, credit_score):\n",
    "    if salary >= 50000 and credit_score >= 700:\n",
    "        return \"Eligible for Loan\"\n",
    "    else:\n",
    "        return \"Not Eligible for Loan\"\n",
    "\n",
    "# Taking user input\n",
    "salary = int(input(\"Enter your monthly salary (in Rs): \"))\n",
    "credit_score = int(input(\"Enter your credit score: \"))\n",
    "\n",
    "# Calling the function and printing the result\n",
    "loan_status = check_loan_eligibility(salary, credit_score)\n",
    "print(loan_status)\n"
   ]
  },
  {
   "cell_type": "code",
   "execution_count": null,
   "id": "d6ee7b5c-f133-4bdc-86d6-cf9d65c6f339",
   "metadata": {},
   "outputs": [],
   "source": []
  }
 ],
 "metadata": {
  "kernelspec": {
   "display_name": "Python 3 (ipykernel)",
   "language": "python",
   "name": "python3"
  },
  "language_info": {
   "codemirror_mode": {
    "name": "ipython",
    "version": 3
   },
   "file_extension": ".py",
   "mimetype": "text/x-python",
   "name": "python",
   "nbconvert_exporter": "python",
   "pygments_lexer": "ipython3",
   "version": "3.12.7"
  }
 },
 "nbformat": 4,
 "nbformat_minor": 5
}
