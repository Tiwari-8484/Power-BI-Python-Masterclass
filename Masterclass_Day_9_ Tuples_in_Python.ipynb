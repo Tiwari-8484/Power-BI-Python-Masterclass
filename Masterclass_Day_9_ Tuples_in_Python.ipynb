{
 "cells": [
  {
   "cell_type": "markdown",
   "id": "ac0e81c2-d8d8-4703-934e-4068d2868208",
   "metadata": {},
   "source": [
    "#  Tuples in Python"
   ]
  },
  {
   "cell_type": "markdown",
   "id": "811e6791-762e-4fec-935d-c15dbf77f88a",
   "metadata": {},
   "source": [
    "# Creating a Tuples"
   ]
  },
  {
   "cell_type": "code",
   "execution_count": 2,
   "id": "b026da57-e408-4803-a46b-b569838e02d1",
   "metadata": {},
   "outputs": [
    {
     "name": "stdout",
     "output_type": "stream",
     "text": [
      "(1, 2, 3, 4, 5)\n",
      "<class 'tuple'>\n"
     ]
    }
   ],
   "source": [
    "my_tuple = (1,2,3,4,5)\n",
    "print(my_tuple)\n",
    "print(type(my_tuple))"
   ]
  },
  {
   "cell_type": "markdown",
   "id": "7727c068-f004-4afa-b360-5e4e8ba39344",
   "metadata": {},
   "source": [
    "# Mixed Datatypes"
   ]
  },
  {
   "cell_type": "code",
   "execution_count": 4,
   "id": "f058ed4b-88da-45d7-b4df-5135b0a54a33",
   "metadata": {},
   "outputs": [
    {
     "name": "stdout",
     "output_type": "stream",
     "text": [
      "(5, 'Ankit', 10.7, (8+9j))\n",
      "<class 'tuple'>\n"
     ]
    }
   ],
   "source": [
    "my_tuple = (5,\"Ankit\",10.7,8+9j)\n",
    "print(my_tuple)\n",
    "print(type(my_tuple))"
   ]
  },
  {
   "cell_type": "markdown",
   "id": "03d40b60-0786-4d01-a45a-0cc04cb3465e",
   "metadata": {},
   "source": [
    "# Empty Tuple"
   ]
  },
  {
   "cell_type": "code",
   "execution_count": 5,
   "id": "deaaf696-50a1-4697-8e2b-fa19a51832a8",
   "metadata": {},
   "outputs": [
    {
     "name": "stdout",
     "output_type": "stream",
     "text": [
      "()\n",
      "<class 'tuple'>\n"
     ]
    }
   ],
   "source": [
    "my_tuple = ()\n",
    "print(my_tuple)\n",
    "print(type(my_tuple))"
   ]
  },
  {
   "cell_type": "markdown",
   "id": "7e93eb42-21cd-44dd-8156-cb8c68612e65",
   "metadata": {},
   "source": [
    "# Nested Tuples"
   ]
  },
  {
   "cell_type": "code",
   "execution_count": 7,
   "id": "3c970785-1e1e-4d7c-bc07-08b39d0e36e3",
   "metadata": {},
   "outputs": [
    {
     "name": "stdout",
     "output_type": "stream",
     "text": [
      "('data', [1, 2, 3], (4, 5, 6))\n",
      "<class 'tuple'>\n"
     ]
    }
   ],
   "source": [
    "x = (\"data\", [1,2,3], (4,5,6))\n",
    "print(x)\n",
    "print(type(x))"
   ]
  },
  {
   "cell_type": "markdown",
   "id": "cf1bdcd8-33f2-491f-ad34-3a853c0427d5",
   "metadata": {},
   "source": [
    "# Creating tuple with only one Item"
   ]
  },
  {
   "cell_type": "code",
   "execution_count": 8,
   "id": "c5f22850-bbf5-4b11-b07e-66680a1dbf90",
   "metadata": {},
   "outputs": [
    {
     "name": "stdout",
     "output_type": "stream",
     "text": [
      "hello\n",
      "<class 'str'>\n"
     ]
    }
   ],
   "source": [
    "var1 = (\"hello\")\n",
    "print(var1)\n",
    "print(type(var1))"
   ]
  },
  {
   "cell_type": "markdown",
   "id": "6fbf6717-a4e7-4e01-acab-c756e050e371",
   "metadata": {},
   "source": [
    "## Agar sirf ek item ka tuple use krna hai to Hume item ke baad comma (,) ka use krna prega nhi to Bina , ke Jis type ka item rhega whi type hoga hmysha EX. int, flot, string,  "
   ]
  },
  {
   "cell_type": "code",
   "execution_count": 9,
   "id": "cd620f5e-b57b-4069-a706-387aa3dd011f",
   "metadata": {},
   "outputs": [
    {
     "name": "stdout",
     "output_type": "stream",
     "text": [
      "(5,)\n",
      "<class 'tuple'>\n"
     ]
    }
   ],
   "source": [
    "var1 = (5,)\n",
    "print(var1)\n",
    "print(type(var1))"
   ]
  },
  {
   "cell_type": "markdown",
   "id": "daa6d79a-5b13-4e6e-adb0-ee27a1e6f250",
   "metadata": {},
   "source": [
    "# Tuple Constructor"
   ]
  },
  {
   "cell_type": "code",
   "execution_count": 11,
   "id": "57524038-afef-4b6e-8054-f3bb04792cf4",
   "metadata": {},
   "outputs": [
    {
     "name": "stdout",
     "output_type": "stream",
     "text": [
      "('a', 'b', 'c')\n",
      "<class 'tuple'>\n"
     ]
    }
   ],
   "source": [
    "a = tuple((\"a\",\"b\",\"c\"))\n",
    "print(a)\n",
    "print(type(a))"
   ]
  },
  {
   "cell_type": "markdown",
   "id": "077bac77-fa6c-471c-bb1c-ea31cf82f60a",
   "metadata": {},
   "source": [
    "# Indexing"
   ]
  },
  {
   "cell_type": "markdown",
   "id": "ff52eb92-e524-44b0-840f-c3b510b1cff6",
   "metadata": {},
   "source": [
    "# Positive Indexing"
   ]
  },
  {
   "cell_type": "code",
   "execution_count": 13,
   "id": "bf4abd55-00ea-4f96-bc73-a92a148faafc",
   "metadata": {},
   "outputs": [
    {
     "name": "stdout",
     "output_type": "stream",
     "text": [
      "(22, 33, 44, 55, 66, 77, 88, 99)\n",
      "<class 'tuple'>\n",
      "77\n"
     ]
    }
   ],
   "source": [
    "a = (22,33,44,55,66,77,88,99)\n",
    "print(a)\n",
    "print(type(a))\n",
    "print(a[5])"
   ]
  },
  {
   "cell_type": "code",
   "execution_count": 15,
   "id": "46a0d69a-6cf7-446c-9885-30b3e1586373",
   "metadata": {},
   "outputs": [
    {
     "name": "stdout",
     "output_type": "stream",
     "text": [
      "(22, 33, 44, 55, 66, 77, 88, 99, 'Ankit', 'Tiwari')\n",
      "<class 'tuple'>\n",
      "Ankit\n"
     ]
    }
   ],
   "source": [
    "a = (22,33,44,55,66,77,88,99, \"Ankit\", \"Tiwari\")\n",
    "print(a)\n",
    "print(type(a))\n",
    "print(a[8])"
   ]
  },
  {
   "cell_type": "markdown",
   "id": "665de840-7de7-4334-be8e-b34fa34c7016",
   "metadata": {},
   "source": [
    "# Negative Indexing"
   ]
  },
  {
   "cell_type": "code",
   "execution_count": 16,
   "id": "f3cc74a2-2698-4fc1-8e28-8ad016de9077",
   "metadata": {},
   "outputs": [
    {
     "name": "stdout",
     "output_type": "stream",
     "text": [
      "(22, 33, 44, 55, 66, 77, 88, 99, 'Ankit', 'Tiwari')\n",
      "<class 'tuple'>\n",
      "Tiwari\n"
     ]
    }
   ],
   "source": [
    "a = (22,33,44,55,66,77,88,99, \"Ankit\", \"Tiwari\")\n",
    "print(a)\n",
    "print(type(a))\n",
    "print(a[-1])"
   ]
  },
  {
   "cell_type": "markdown",
   "id": "0459524d-aec4-42ae-a624-0aae48d05c6c",
   "metadata": {},
   "source": [
    "# Slicing"
   ]
  },
  {
   "cell_type": "code",
   "execution_count": 17,
   "id": "6b606305-fed4-4d43-b33c-63571d5db791",
   "metadata": {},
   "outputs": [
    {
     "name": "stdout",
     "output_type": "stream",
     "text": [
      "(22, 33, 44, 55, 66, 77, 88, 99, 'Ankit', 'Tiwari')\n",
      "<class 'tuple'>\n",
      "(22, 33, 44, 55, 66, 77)\n"
     ]
    }
   ],
   "source": [
    "a = (22,33,44,55,66,77,88,99, \"Ankit\", \"Tiwari\")\n",
    "print(a)\n",
    "print(type(a))\n",
    "print(a[0:6])"
   ]
  },
  {
   "cell_type": "code",
   "execution_count": 18,
   "id": "efef4264-d357-4856-a7ea-0391e6f86759",
   "metadata": {},
   "outputs": [
    {
     "name": "stdout",
     "output_type": "stream",
     "text": [
      "(22, 33, 44, 55, 66, 77, 88, 99, 'Ankit', 'Tiwari')\n",
      "<class 'tuple'>\n",
      "(22, 33, 44, 55, 66, 77)\n"
     ]
    }
   ],
   "source": [
    "a = (22,33,44,55,66,77,88,99, \"Ankit\", \"Tiwari\")\n",
    "print(a)\n",
    "print(type(a))\n",
    "print(a[:6])"
   ]
  },
  {
   "cell_type": "code",
   "execution_count": 19,
   "id": "daa3a33e-0551-43ca-8840-ed5fe7e23c77",
   "metadata": {},
   "outputs": [
    {
     "name": "stdout",
     "output_type": "stream",
     "text": [
      "(22, 33, 44, 55, 66, 77, 88, 99, 'Ankit', 'Tiwari')\n",
      "<class 'tuple'>\n",
      "(22, 33, 44, 55, 66, 77, 88, 99, 'Ankit', 'Tiwari')\n"
     ]
    }
   ],
   "source": [
    "a = (22,33,44,55,66,77,88,99, \"Ankit\", \"Tiwari\")\n",
    "print(a)\n",
    "print(type(a))\n",
    "print(a[:])"
   ]
  },
  {
   "cell_type": "markdown",
   "id": "19073b7d-8ba7-403a-8b4d-018d20c8411a",
   "metadata": {},
   "source": [
    "# Print With Gap One"
   ]
  },
  {
   "cell_type": "code",
   "execution_count": 20,
   "id": "9739f4cf-cf39-4f6b-9744-d646408bbde0",
   "metadata": {},
   "outputs": [
    {
     "name": "stdout",
     "output_type": "stream",
     "text": [
      "(22, 33, 44, 55, 66, 77, 88, 99, 'Ankit', 'Tiwari')\n",
      "<class 'tuple'>\n",
      "(22, 44, 66, 88, 'Ankit')\n"
     ]
    }
   ],
   "source": [
    "a = (22,33,44,55,66,77,88,99, \"Ankit\", \"Tiwari\")\n",
    "print(a)\n",
    "print(type(a))\n",
    "print(a[::2])"
   ]
  },
  {
   "cell_type": "markdown",
   "id": "2b54ef0c-9e4c-47b9-af36-f85648551ae2",
   "metadata": {},
   "source": [
    "# Print with Gap Two"
   ]
  },
  {
   "cell_type": "code",
   "execution_count": 21,
   "id": "16183a4f-3ee7-4a50-a6dd-7688064a668c",
   "metadata": {},
   "outputs": [
    {
     "name": "stdout",
     "output_type": "stream",
     "text": [
      "(22, 33, 44, 55, 66, 77, 88, 99, 'Ankit', 'Tiwari')\n",
      "<class 'tuple'>\n",
      "(22, 55, 88, 'Tiwari')\n"
     ]
    }
   ],
   "source": [
    "a = (22,33,44,55,66,77,88,99, \"Ankit\", \"Tiwari\")\n",
    "print(a)\n",
    "print(type(a))\n",
    "print(a[::3])"
   ]
  },
  {
   "cell_type": "markdown",
   "id": "839fd983-4bfb-4d09-abfd-e4b8840c4335",
   "metadata": {},
   "source": [
    "# Reverse a Tuple"
   ]
  },
  {
   "cell_type": "code",
   "execution_count": 22,
   "id": "ea692788-56b9-4ec6-8e7f-767bcce9746d",
   "metadata": {},
   "outputs": [
    {
     "name": "stdout",
     "output_type": "stream",
     "text": [
      "(22, 33, 44, 55, 66, 77, 88, 99, 'Ankit', 'Tiwari')\n",
      "<class 'tuple'>\n",
      "('Tiwari', 'Ankit', 99, 88, 77, 66, 55, 44, 33, 22)\n"
     ]
    }
   ],
   "source": [
    "a = (22,33,44,55,66,77,88,99, \"Ankit\", \"Tiwari\")\n",
    "print(a)\n",
    "print(type(a))\n",
    "print(a[::-1])"
   ]
  },
  {
   "cell_type": "markdown",
   "id": "3a7fe303-e907-4d44-bf0e-e99fca11b8dc",
   "metadata": {},
   "source": [
    "# Assignment"
   ]
  },
  {
   "cell_type": "code",
   "execution_count": 23,
   "id": "f4ddd77b-9079-48e4-b546-139b73d40d46",
   "metadata": {},
   "outputs": [
    {
     "name": "stdout",
     "output_type": "stream",
     "text": [
      "(1, 2, 3, 4, 5, 6, 7, 8)\n",
      "(4, 5, 6, 7, 8)\n",
      "(1, 2, 3, 4)\n",
      "()\n"
     ]
    }
   ],
   "source": [
    "T = (1,2,3,4,5,6,7,8)\n",
    "print(T[::])\n",
    "print(T[3:])\n",
    "print(T[:4])\n",
    "print(T[-2:-5])"
   ]
  },
  {
   "cell_type": "markdown",
   "id": "b211acf3-9482-45e3-81a0-d47e0e337095",
   "metadata": {},
   "source": [
    "# Dublicate"
   ]
  },
  {
   "cell_type": "code",
   "execution_count": 24,
   "id": "6990b225-b4ea-41f3-8283-14229243ea0f",
   "metadata": {},
   "outputs": [
    {
     "name": "stdout",
     "output_type": "stream",
     "text": [
      "(1, 2, 3, 5, 123, 45, 24, 2, 4, 3)\n",
      "<class 'tuple'>\n"
     ]
    }
   ],
   "source": [
    "t = (1,2,3,5,123,45,24,2,4,3)\n",
    "print(t)\n",
    "print(type(t))"
   ]
  },
  {
   "cell_type": "markdown",
   "id": "38b1e03c-788c-4524-8647-480258720ae2",
   "metadata": {},
   "source": [
    "## Waise to tuple me Items Add, Remove or change nhi kar skte hai kyun ki ye immutable hota hai lekin ek tarika se Ise problem ko solve kar skte hai. Phale tuple ko list me convert kijiay fir add remove or change kr ke use fir se tuple bna dijiay. Example Niche Dekhe"
   ]
  },
  {
   "cell_type": "markdown",
   "id": "feefb56b-fc9f-4f88-a704-d1a0ce20b74a",
   "metadata": {},
   "source": [
    "# ADD new element in list"
   ]
  },
  {
   "cell_type": "code",
   "execution_count": 35,
   "id": "1ff75a29-226e-4f45-84a2-e73f754bc5b1",
   "metadata": {},
   "outputs": [
    {
     "name": "stdout",
     "output_type": "stream",
     "text": [
      "<class 'tuple'>\n",
      "\n",
      "Tuple ko list me change kiay\n",
      "\n",
      "<class 'list'>\n",
      "[25, 26, 27, 28, 29]\n",
      "\n",
      "list me 30 add kaiy\n",
      "\n",
      "[25, 26, 27, 28, 29, 30]\n",
      "\n",
      "New List ko Tuple me change kaiy\n",
      "\n",
      "(25, 26, 27, 28, 29, 30)\n",
      "<class 'tuple'>\n"
     ]
    }
   ],
   "source": [
    "a = (25,26,27,28,29)\n",
    "print(type(a))\n",
    "\n",
    "print(\"\\nTuple ko list me change kiay\\n\") \n",
    "y = list(a)\n",
    "print(type(y))\n",
    "print(y)\n",
    "\n",
    "print(\"\\nlist me 30 add kaiy\\n\")\n",
    "y.append(30)\n",
    "print(y)\n",
    "\n",
    "print(\"\\nNew List ko Tuple me change kaiy\\n\")\n",
    "a = tuple(y)\n",
    "print(a)\n",
    "print(type(a))"
   ]
  },
  {
   "cell_type": "markdown",
   "id": "670acc0e-fd01-4bf7-a4d7-93d2d539d72c",
   "metadata": {},
   "source": [
    "## Remove a element in list"
   ]
  },
  {
   "cell_type": "code",
   "execution_count": 36,
   "id": "928d8343-215f-41a0-bfdb-f46dd59d68c7",
   "metadata": {},
   "outputs": [
    {
     "name": "stdout",
     "output_type": "stream",
     "text": [
      "<class 'tuple'>\n",
      "\n",
      "Tuple ko list me change kiay\n",
      "\n",
      "<class 'list'>\n",
      "[25, 26, 27, 28, 29]\n",
      "\n",
      "list me 27 remove kaiy\n",
      "\n",
      "[25, 26, 28, 29]\n",
      "\n",
      "New List ko Tuple me change kaiy\n",
      "\n",
      "(25, 26, 28, 29)\n",
      "<class 'tuple'>\n"
     ]
    }
   ],
   "source": [
    "a = (25,26,27,28,29)\n",
    "print(type(a))\n",
    "\n",
    "print(\"\\nTuple ko list me change kiay\\n\") \n",
    "y = list(a)\n",
    "print(type(y))\n",
    "print(y)\n",
    "\n",
    "print(\"\\nlist me 27 remove kaiy\\n\")\n",
    "y.remove(27)\n",
    "print(y)\n",
    "\n",
    "print(\"\\nNew List ko Tuple me change kaiy\\n\")\n",
    "a = tuple(y)\n",
    "print(a)\n",
    "print(type(a))"
   ]
  },
  {
   "cell_type": "markdown",
   "id": "cf6f0baa-5ea6-47f0-a2b4-c007b9bd9a95",
   "metadata": {},
   "source": [
    "# loop"
   ]
  },
  {
   "cell_type": "code",
   "execution_count": 37,
   "id": "7e8d5fb1-88a8-4f8d-802f-93178f5d7381",
   "metadata": {},
   "outputs": [
    {
     "name": "stdout",
     "output_type": "stream",
     "text": [
      "a\n",
      "b\n",
      "c\n"
     ]
    }
   ],
   "source": [
    "thistuple =(\"a\", \"b\", \"c\")\n",
    "for x in thistuple:\n",
    "    print(x)"
   ]
  },
  {
   "cell_type": "markdown",
   "id": "9d41cff9-2ebd-43b1-b27a-f623b496d39f",
   "metadata": {},
   "source": [
    "# Join Two tuple"
   ]
  },
  {
   "cell_type": "code",
   "execution_count": 38,
   "id": "d97a2b17-3160-4a50-8729-79fdb5f925d5",
   "metadata": {},
   "outputs": [
    {
     "name": "stdout",
     "output_type": "stream",
     "text": [
      "('a', 'b', 'c', 1, 2, 3)\n"
     ]
    }
   ],
   "source": [
    "tuple1 = (\"a\",\"b\", \"c\")\n",
    "tuple2 = (1,2,3)\n",
    "tuple3 = tuple1 + tuple2\n",
    "print(tuple3)"
   ]
  },
  {
   "cell_type": "markdown",
   "id": "99b398e2-4456-4af3-affe-33b5412e8c62",
   "metadata": {},
   "source": [
    "# Multiply of Tuple"
   ]
  },
  {
   "cell_type": "code",
   "execution_count": 40,
   "id": "53b88a2a-ea3f-4096-a763-89efdd3d059e",
   "metadata": {},
   "outputs": [
    {
     "name": "stdout",
     "output_type": "stream",
     "text": [
      "('Mango', 'Banana', 'Python', 'Data', 'Mango', 'Banana', 'Python', 'Data', 'Mango', 'Banana', 'Python', 'Data')\n"
     ]
    }
   ],
   "source": [
    "x = (\"Mango\", \"Banana\", \"Python\", \"Data\")\n",
    "y = x*3\n",
    "print(y)"
   ]
  },
  {
   "cell_type": "markdown",
   "id": "854e1d2d-dc32-42da-9f2e-c36c04c8b0b2",
   "metadata": {},
   "source": [
    "# Assignment "
   ]
  },
  {
   "cell_type": "code",
   "execution_count": 41,
   "id": "82e45b96-77fb-4ad7-992b-8d5204d9a50f",
   "metadata": {},
   "outputs": [
    {
     "name": "stdout",
     "output_type": "stream",
     "text": [
      "(1, 2, 3, 4, 5, 6, 7, 8, 9, 1, 2, 3, 4, 5, 6, 7, 8, 9)\n",
      "(1, 2, 3, 4, 5, 6, 7, 8, 9, 1, 2, 3, 4, 5, 6, 7, 8, 9, 1, 2, 3, 4, 5, 6, 7, 8, 9)\n",
      "(1, 2, 3, 4, 5, 6, 7, 8, 9, 1, 2, 3, 4, 5, 6, 7, 8, 9)\n",
      "9\n"
     ]
    }
   ],
   "source": [
    "T = (1,2,3,4,5,6,7,8,9)\n",
    "print(T*2)\n",
    "print(T+T+T)\n",
    "print(T+T)\n",
    "print(len(T))"
   ]
  },
  {
   "cell_type": "markdown",
   "id": "4ceaa246-d040-4dd4-a86f-219f723b4015",
   "metadata": {},
   "source": [
    "## Write a program to take 5 input form user and store in a tuple"
   ]
  },
  {
   "cell_type": "code",
   "execution_count": 42,
   "id": "1d404593-81c9-4718-891f-285a2738c15b",
   "metadata": {},
   "outputs": [
    {
     "name": "stdin",
     "output_type": "stream",
     "text": [
      "Enter The value Places 20\n"
     ]
    },
    {
     "name": "stdout",
     "output_type": "stream",
     "text": [
      "(20,)\n"
     ]
    },
    {
     "name": "stdin",
     "output_type": "stream",
     "text": [
      "Enter The value Places 25\n"
     ]
    },
    {
     "name": "stdout",
     "output_type": "stream",
     "text": [
      "(20, 25)\n"
     ]
    },
    {
     "name": "stdin",
     "output_type": "stream",
     "text": [
      "Enter The value Places 30\n"
     ]
    },
    {
     "name": "stdout",
     "output_type": "stream",
     "text": [
      "(20, 25, 30)\n"
     ]
    },
    {
     "name": "stdin",
     "output_type": "stream",
     "text": [
      "Enter The value Places 35\n"
     ]
    },
    {
     "name": "stdout",
     "output_type": "stream",
     "text": [
      "(20, 25, 30, 35)\n"
     ]
    },
    {
     "name": "stdin",
     "output_type": "stream",
     "text": [
      "Enter The value Places 40\n"
     ]
    },
    {
     "name": "stdout",
     "output_type": "stream",
     "text": [
      "(20, 25, 30, 35, 40)\n"
     ]
    }
   ],
   "source": [
    "T = ()\n",
    "i = 0\n",
    "while i<5:\n",
    "    num =int(input(\"Enter The value Places\"))\n",
    "    T = T + (num,)\n",
    "    i = i+1\n",
    "    print(T)"
   ]
  },
  {
   "cell_type": "code",
   "execution_count": null,
   "id": "9410a2ce-3e3a-4fb7-bdd7-b2fbf5bf79de",
   "metadata": {},
   "outputs": [],
   "source": []
  }
 ],
 "metadata": {
  "kernelspec": {
   "display_name": "Python 3 (ipykernel)",
   "language": "python",
   "name": "python3"
  },
  "language_info": {
   "codemirror_mode": {
    "name": "ipython",
    "version": 3
   },
   "file_extension": ".py",
   "mimetype": "text/x-python",
   "name": "python",
   "nbconvert_exporter": "python",
   "pygments_lexer": "ipython3",
   "version": "3.12.7"
  }
 },
 "nbformat": 4,
 "nbformat_minor": 5
}
