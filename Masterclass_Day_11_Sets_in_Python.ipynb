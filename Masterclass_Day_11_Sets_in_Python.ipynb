{
 "cells": [
  {
   "cell_type": "markdown",
   "id": "8cfac398-d595-4976-bb5f-338fe3fd7333",
   "metadata": {},
   "source": [
    "# Day 11 Sets"
   ]
  },
  {
   "cell_type": "markdown",
   "id": "9f409e8b-f051-4ac5-97d2-d71e29387c3b",
   "metadata": {},
   "source": [
    "## Creating a sets"
   ]
  },
  {
   "cell_type": "code",
   "execution_count": 2,
   "id": "bebe6ce6-248b-4312-ab7e-32c04825662c",
   "metadata": {},
   "outputs": [
    {
     "name": "stdout",
     "output_type": "stream",
     "text": [
      "{'Dog', 'Animals', 'Elephant', 'Ball', 'Cat'}\n",
      "<class 'set'>\n"
     ]
    }
   ],
   "source": [
    "a = {\"Ball\", \"Cat\", \"Dog\", \"Elephant\", \"Animals\"}\n",
    "print(a)\n",
    "print(type(a))"
   ]
  },
  {
   "cell_type": "markdown",
   "id": "dd5c90b5-55f8-404a-9f28-9d3d0a81ba20",
   "metadata": {},
   "source": [
    "## Agr Set order hota to Output continue print hota is ye pta chlta hai ki set unorderd hota hai"
   ]
  },
  {
   "cell_type": "markdown",
   "id": "196915ef-3989-4b08-ba2e-cebe16505a73",
   "metadata": {},
   "source": [
    "# Set items are Unorderd"
   ]
  },
  {
   "cell_type": "code",
   "execution_count": 4,
   "id": "0c633d26-08f2-4ea0-912b-8fbc6fbddd6f",
   "metadata": {},
   "outputs": [
    {
     "ename": "TypeError",
     "evalue": "'set' object is not subscriptable",
     "output_type": "error",
     "traceback": [
      "\u001b[1;31m---------------------------------------------------------------------------\u001b[0m",
      "\u001b[1;31mTypeError\u001b[0m                                 Traceback (most recent call last)",
      "Cell \u001b[1;32mIn[4], line 2\u001b[0m\n\u001b[0;32m      1\u001b[0m a \u001b[38;5;241m=\u001b[39m {\u001b[38;5;124m\"\u001b[39m\u001b[38;5;124mBall\u001b[39m\u001b[38;5;124m\"\u001b[39m, \u001b[38;5;124m\"\u001b[39m\u001b[38;5;124mCat\u001b[39m\u001b[38;5;124m\"\u001b[39m, \u001b[38;5;124m\"\u001b[39m\u001b[38;5;124mDog\u001b[39m\u001b[38;5;124m\"\u001b[39m, \u001b[38;5;124m\"\u001b[39m\u001b[38;5;124mElephant\u001b[39m\u001b[38;5;124m\"\u001b[39m, \u001b[38;5;124m\"\u001b[39m\u001b[38;5;124mAnimals\u001b[39m\u001b[38;5;124m\"\u001b[39m}\n\u001b[1;32m----> 2\u001b[0m \u001b[38;5;28mprint\u001b[39m(a[\u001b[38;5;241m0\u001b[39m])\n",
      "\u001b[1;31mTypeError\u001b[0m: 'set' object is not subscriptable"
     ]
    }
   ],
   "source": [
    "a = {\"Ball\", \"Cat\", \"Dog\", \"Elephant\", \"Animals\"}\n",
    "print(a[0])"
   ]
  },
  {
   "cell_type": "markdown",
   "id": "749e5a73-db7b-4cd0-95da-34472fef6497",
   "metadata": {},
   "source": [
    "## Dublicates are not allowed"
   ]
  },
  {
   "cell_type": "code",
   "execution_count": 5,
   "id": "d29cee24-ad74-4d3d-af47-7f2b252159ee",
   "metadata": {},
   "outputs": [
    {
     "name": "stdout",
     "output_type": "stream",
     "text": [
      "{'Dog', 'Animals', 'Elephant', 'Ball', 'Cat'}\n"
     ]
    }
   ],
   "source": [
    "a = {\"Ball\", \"Cat\", \"Dog\", \"Elephant\", \"Cat\", \"Dog\", \"Elephant\",\"Cat\", \"Dog\", \"Elephant\", \"Animals\"}\n",
    "print(a)"
   ]
  },
  {
   "cell_type": "markdown",
   "id": "80f17547-e377-4b81-a95f-8dbcfea9d127",
   "metadata": {},
   "source": [
    "## True and One is consider in the same values "
   ]
  },
  {
   "cell_type": "code",
   "execution_count": 7,
   "id": "ca90e9ca-18c6-488b-843d-7439990897a4",
   "metadata": {},
   "outputs": [
    {
     "name": "stdout",
     "output_type": "stream",
     "text": [
      "{0, 1, 2, 'false', 'Elephant', 'Ball', 'Animals', 'Dog', 'true', 'Cat'}\n"
     ]
    }
   ],
   "source": [
    "a = {\"Ball\", \"Cat\", \"Dog\", \"true\", 0, 1, 2, \"Elephant\", \"Animals\"}\n",
    "print(a)"
   ]
  },
  {
   "cell_type": "markdown",
   "id": "16412ca9-6256-4b40-972c-e9101e753c04",
   "metadata": {},
   "source": [
    "## Get a length of a set"
   ]
  },
  {
   "cell_type": "code",
   "execution_count": 12,
   "id": "47d47577-34c5-4257-a25f-df08134514b6",
   "metadata": {},
   "outputs": [
    {
     "name": "stdout",
     "output_type": "stream",
     "text": [
      "{0, 'False', 2, 1, 'True', 'Animals', 'Elephant', 'Ball', 'Dog', 'Cat'}\n",
      "10\n"
     ]
    }
   ],
   "source": [
    "a = {\"Ball\", \"Cat\", \"Dog\", \"True\", \"False\", 0, 1, 2, \"Cat\", \"Dog\", \"Elephant\",\"Cat\", \"Elephant\", \"Animals\"}\n",
    "print(a)\n",
    "print(len(a))"
   ]
  },
  {
   "cell_type": "markdown",
   "id": "be006190-28ce-4be0-9d9a-e2b83b2ba889",
   "metadata": {},
   "source": [
    "## Set items - Data Types"
   ]
  },
  {
   "cell_type": "code",
   "execution_count": 14,
   "id": "5b31aceb-9374-4d68-8e38-b3ea33f03bde",
   "metadata": {},
   "outputs": [
    {
     "name": "stdout",
     "output_type": "stream",
     "text": [
      "{False, True} {'z', 'x', 'Y'} {44.2, 77.4, 22.5} {33, 66, 11, 55}\n"
     ]
    }
   ],
   "source": [
    "x1 = {True, False, True, False}\n",
    "x2 = {\"x\", \"Y\", \"z\"}\n",
    "x3 = {22.5, 44.2, 77.4}\n",
    "x4 = {11, 33, 55, 66}\n",
    "print(x1, x2, x3, x4)"
   ]
  },
  {
   "cell_type": "markdown",
   "id": "68a5f3a4-b4f7-4b9b-82c9-52904e8da59a",
   "metadata": {},
   "source": [
    "## Means set all Data type accept karta hai Bolean, Floating, String and Integer"
   ]
  },
  {
   "cell_type": "markdown",
   "id": "1b8f5e3d-3914-42d4-938b-5a709689e55f",
   "metadata": {},
   "source": [
    "# Ek set me sabhi data types merge"
   ]
  },
  {
   "cell_type": "code",
   "execution_count": 15,
   "id": "fbec5870-cd9f-47ed-a867-9bdcbb108765",
   "metadata": {},
   "outputs": [
    {
     "name": "stdout",
     "output_type": "stream",
     "text": [
      "{1, 3.1, 4, (5+10j), 8.3, -7, 'Mango'}\n"
     ]
    }
   ],
   "source": [
    "m = {1, 4, -7, 3.1, 8.3, 5+10j, \"Mango\", True}\n",
    "print(m)"
   ]
  },
  {
   "cell_type": "markdown",
   "id": "2d41cb70-d2b9-45bf-b898-de24d383f578",
   "metadata": {},
   "source": [
    "# Set Constructor"
   ]
  },
  {
   "cell_type": "code",
   "execution_count": 17,
   "id": "c67fe159-9d7d-434f-a512-e869984d5aac",
   "metadata": {},
   "outputs": [
    {
     "name": "stdout",
     "output_type": "stream",
     "text": [
      "{'Beta', 'Gamma', 'Alpha'}\n",
      "<class 'set'>\n"
     ]
    }
   ],
   "source": [
    "thisset = set((\"Alpha\", \"Beta\", \"Gamma\"))\n",
    "print(thisset)\n",
    "print(type(thisset))"
   ]
  },
  {
   "cell_type": "markdown",
   "id": "d75fcf25-0e64-4ccd-90af-be9fadcf2daa",
   "metadata": {},
   "source": [
    "# Creating Empty Set"
   ]
  },
  {
   "cell_type": "code",
   "execution_count": 20,
   "id": "9b60ee5d-3c8c-4719-b101-7f93d4be81d7",
   "metadata": {},
   "outputs": [
    {
     "name": "stdout",
     "output_type": "stream",
     "text": [
      "{}\n",
      "<class 'dict'>\n"
     ]
    }
   ],
   "source": [
    "a = {}\n",
    "print(a)\n",
    "print(type(a))\n"
   ]
  },
  {
   "cell_type": "code",
   "execution_count": 24,
   "id": "e6093918-7e52-474c-9a89-8dd0edfc1369",
   "metadata": {},
   "outputs": [
    {
     "name": "stdout",
     "output_type": "stream",
     "text": [
      "set()\n",
      "<class 'set'>\n"
     ]
    }
   ],
   "source": [
    "empty = set()\n",
    "print(empty)\n",
    "print(type(empty))"
   ]
  },
  {
   "cell_type": "markdown",
   "id": "ed7860b0-a76d-423c-9a52-8e7d8b7ad782",
   "metadata": {},
   "source": [
    "# Access Items"
   ]
  },
  {
   "cell_type": "code",
   "execution_count": 25,
   "id": "d98a2f9e-c9f9-4d7b-82f0-502c6ea65940",
   "metadata": {},
   "outputs": [
    {
     "name": "stdout",
     "output_type": "stream",
     "text": [
      "c\n",
      "d\n",
      "b\n",
      "a\n"
     ]
    }
   ],
   "source": [
    "a = {\"a\", \"b\", \"c\", \"d\"}\n",
    "\n",
    "for x in a:\n",
    "    print(x)"
   ]
  },
  {
   "cell_type": "markdown",
   "id": "0438e052-057e-42ea-acd0-5076e0dd5683",
   "metadata": {},
   "source": [
    "## Check if items present in the set"
   ]
  },
  {
   "cell_type": "code",
   "execution_count": 26,
   "id": "97569e0c-484f-4556-b0a1-d16d15b04fda",
   "metadata": {},
   "outputs": [
    {
     "name": "stdin",
     "output_type": "stream",
     "text": [
      "Enter the item to check:  cherry\n"
     ]
    },
    {
     "name": "stdout",
     "output_type": "stream",
     "text": [
      "Yes, 'cherry' is present in the set.\n"
     ]
    }
   ],
   "source": [
    "# Define a set\n",
    "my_set = {\"apple\", \"banana\", \"cherry\", \"mango\"}\n",
    "\n",
    "# Ask the user to enter an item\n",
    "item = input(\"Enter the item to check: \")\n",
    "\n",
    "# Check if the item is in the set\n",
    "if item in my_set:\n",
    "    print(f\"Yes, '{item}' is present in the set.\")\n",
    "else:\n",
    "    print(f\"No, '{item}' is not present in the set.\")"
   ]
  },
  {
   "cell_type": "markdown",
   "id": "e8bd71ad-131f-4ba0-8758-1edee784c5a9",
   "metadata": {},
   "source": [
    "## Another way"
   ]
  },
  {
   "cell_type": "code",
   "execution_count": 27,
   "id": "0049a452-ed54-4c21-9a29-4c36517718eb",
   "metadata": {},
   "outputs": [
    {
     "name": "stdout",
     "output_type": "stream",
     "text": [
      "True\n"
     ]
    }
   ],
   "source": [
    "a = {\"Ankit\", \"Apple\", \"Mango\"}\n",
    "print(\"Ankit\" in a)"
   ]
  },
  {
   "cell_type": "code",
   "execution_count": 29,
   "id": "478573fc-4a49-45d8-bd5b-8317d3a34c80",
   "metadata": {},
   "outputs": [
    {
     "name": "stdout",
     "output_type": "stream",
     "text": [
      "False\n"
     ]
    }
   ],
   "source": [
    "a = {\"Ankit\", \"Apple\", \"Mango\"}\n",
    "print(\"cherry\" in a)"
   ]
  },
  {
   "cell_type": "markdown",
   "id": "b0524c2a-9059-4f6f-a51d-abb1740934ab",
   "metadata": {},
   "source": [
    "# Add item in set"
   ]
  },
  {
   "cell_type": "code",
   "execution_count": 30,
   "id": "6ecc9ea6-161b-4e0d-94c2-6866f7a8e090",
   "metadata": {},
   "outputs": [
    {
     "name": "stdout",
     "output_type": "stream",
     "text": [
      "{'d', 'b', 44, 'c', 'a'}\n"
     ]
    }
   ],
   "source": [
    "a = {\"a\", \"b\", \"c\", \"d\"}\n",
    "a.add(44)\n",
    "print(a)"
   ]
  },
  {
   "cell_type": "code",
   "execution_count": 32,
   "id": "828e8457-7a34-4b32-bac0-1b2b3f6dde12",
   "metadata": {},
   "outputs": [
    {
     "name": "stdout",
     "output_type": "stream",
     "text": [
      "{2, 4, 'python', 5, 7, 9, 'code', 'data'}\n",
      "8\n"
     ]
    }
   ],
   "source": [
    "x = {\"data\", \"python\", \"code\"}\n",
    "y = {5, 7, 9, 4, 2}\n",
    "\n",
    "x.update(y)\n",
    "print(x)\n",
    "print(len(x))"
   ]
  },
  {
   "cell_type": "markdown",
   "id": "6224fae6-a2ab-4142-9fb4-485dffcddff2",
   "metadata": {},
   "source": [
    "## Remove item in set"
   ]
  },
  {
   "cell_type": "code",
   "execution_count": 36,
   "id": "45a3816d-b15b-4114-ae04-f086d39eb887",
   "metadata": {},
   "outputs": [
    {
     "name": "stdout",
     "output_type": "stream",
     "text": [
      "{4, 5, 'python', 7, 9, 'data'}\n",
      "6\n"
     ]
    }
   ],
   "source": [
    "n = {2, 4, 'python', 5, 7, 9, 'code', 'data'}\n",
    "\n",
    "n.remove(2)\n",
    "n.remove('code')\n",
    "\n",
    "print(n)\n",
    "print(len(n))"
   ]
  },
  {
   "cell_type": "code",
   "execution_count": 39,
   "id": "ce2dfd89-9192-4247-90ff-854fdc396634",
   "metadata": {},
   "outputs": [
    {
     "name": "stdout",
     "output_type": "stream",
     "text": [
      "{4, 5, 'python', 7, 9, 'code', 'data'}\n"
     ]
    }
   ],
   "source": [
    "m = {2, 4, 'python', 5, 7, 9, 'code', 'data'}\n",
    "\n",
    "m.pop()\n",
    "print(m)"
   ]
  },
  {
   "cell_type": "code",
   "execution_count": 40,
   "id": "d56a6fcb-eb6d-4c7e-9bfb-354c9d6e7628",
   "metadata": {},
   "outputs": [
    {
     "name": "stdout",
     "output_type": "stream",
     "text": [
      "set()\n"
     ]
    }
   ],
   "source": [
    "n = {2, 4, 'python', 5, 7, 9, 'code', 'data'}\n",
    "\n",
    "n.clear()\n",
    "print(n)"
   ]
  },
  {
   "cell_type": "markdown",
   "id": "c90ac596-bc59-4196-b154-17c27619c425",
   "metadata": {},
   "source": [
    "# join two Sets"
   ]
  },
  {
   "cell_type": "code",
   "execution_count": 45,
   "id": "1f172dc8-173b-4bea-9275-0054887afd2f",
   "metadata": {},
   "outputs": [
    {
     "name": "stdout",
     "output_type": "stream",
     "text": [
      "{1, 2, 3, 'b', 'c', 'a'}\n"
     ]
    }
   ],
   "source": [
    "X = {\"a\", \"b\", \"c\"}\n",
    "Y = {1, 2, 3}\n",
    "Z = X.union(Y)\n",
    "print(Z)"
   ]
  },
  {
   "cell_type": "markdown",
   "id": "413ad41f-63f3-4af8-852c-490fd6fd4386",
   "metadata": {},
   "source": [
    "# Write a python Program to find the max and minimum values in set"
   ]
  },
  {
   "cell_type": "code",
   "execution_count": 46,
   "id": "ab877bdf-5f84-4717-989f-969aee0c5ee8",
   "metadata": {},
   "outputs": [
    {
     "name": "stdout",
     "output_type": "stream",
     "text": [
      "Set: {67, 23, 7, 89, 12, 45}\n",
      "Maximum value: 89\n",
      "Minimum value: 7\n"
     ]
    }
   ],
   "source": [
    "# Define a set\n",
    "my_set = {12, 45, 7, 89, 23, 67}\n",
    "\n",
    "# Find the maximum and minimum values\n",
    "max_val = max(my_set)\n",
    "min_val = min(my_set)\n",
    "\n",
    "# Print the results\n",
    "print(\"Set:\", my_set)\n",
    "print(\"Maximum value:\", max_val)\n",
    "print(\"Minimum value:\", min_val)"
   ]
  },
  {
   "cell_type": "markdown",
   "id": "7b1ac9db-289e-4c7b-9cb6-ccfd4c1e5dbb",
   "metadata": {},
   "source": [
    "# another way"
   ]
  },
  {
   "cell_type": "code",
   "execution_count": 50,
   "id": "b36b468e-0bb0-4eea-a4b6-41f3ccd4e652",
   "metadata": {},
   "outputs": [
    {
     "name": "stdout",
     "output_type": "stream",
     "text": [
      "Original Set Element\n",
      "{67, 23, 7, 89, 12, 45}\n",
      "Max value of the set is: \n",
      "89\n",
      "Min value of the set is: \n",
      "7\n"
     ]
    }
   ],
   "source": [
    "my_set = {12, 45, 7, 89, 23, 67}\n",
    "print(\"Original Set Element\")\n",
    "print(my_set)\n",
    "print(\"Max value of the set is: \")\n",
    "print(max(my_set))\n",
    "print(\"Min value of the set is: \")\n",
    "print(min(my_set))"
   ]
  },
  {
   "cell_type": "code",
   "execution_count": 51,
   "id": "ffa61ac9-7ff5-4b6c-ab94-9bea9e60a4b7",
   "metadata": {},
   "outputs": [
    {
     "name": "stdout",
     "output_type": "stream",
     "text": [
      "Original Set Elements:\n",
      "{67, 23, 7, 89, 12, 45}\n",
      "Max value of the set is: 89\n",
      "Min value of the set is: 7\n"
     ]
    }
   ],
   "source": [
    "my_set = {12, 45, 7, 89, 23, 67}\n",
    "\n",
    "print(\"Original Set Elements:\")\n",
    "print(my_set)\n",
    "\n",
    "print(\"Max value of the set is:\", max(my_set))\n",
    "print(\"Min value of the set is:\", min(my_set))\n"
   ]
  },
  {
   "cell_type": "markdown",
   "id": "951c2837-72e1-4fa2-bc6e-951f808b1d3d",
   "metadata": {},
   "source": [
    "# Python program that returns a new set containing identical (common) items from two sets using the intersection method"
   ]
  },
  {
   "cell_type": "code",
   "execution_count": 52,
   "id": "c7d1d7a2-ef66-41d5-b768-833865e35954",
   "metadata": {},
   "outputs": [
    {
     "name": "stdout",
     "output_type": "stream",
     "text": [
      "Set 1: {'cherry', 'apple', 'mango', 'banana'}\n",
      "Set 2: {'grapes', 'kiwi', 'mango', 'banana'}\n",
      "Common items in both sets: {'mango', 'banana'}\n"
     ]
    }
   ],
   "source": [
    "# Define two sets\n",
    "set1 = {\"apple\", \"banana\", \"cherry\", \"mango\"}\n",
    "set2 = {\"banana\", \"kiwi\", \"mango\", \"grapes\"}\n",
    "\n",
    "# Find identical items (common elements)\n",
    "common_items = set1.intersection(set2)\n",
    "\n",
    "# Display the result\n",
    "print(\"Set 1:\", set1)\n",
    "print(\"Set 2:\", set2)\n",
    "print(\"Common items in both sets:\", common_items)\n"
   ]
  },
  {
   "cell_type": "code",
   "execution_count": 53,
   "id": "b29cb24a-bbb0-406c-bda3-19c01dc0032b",
   "metadata": {},
   "outputs": [
    {
     "name": "stdout",
     "output_type": "stream",
     "text": [
      "Set 1: {50, 20, 40, 10, 30}\n",
      "Set 2: {80, 70, 40, 60, 30}\n",
      "Common items in both sets: {40, 30}\n"
     ]
    }
   ],
   "source": [
    "# Define two sets of numbers\n",
    "set1 = {10, 20, 30, 40, 50}\n",
    "set2 = {30, 40, 60, 70, 80}\n",
    "\n",
    "# Find identical items (intersection)\n",
    "common_items = set1.intersection(set2)\n",
    "\n",
    "# Display the result\n",
    "print(\"Set 1:\", set1)\n",
    "print(\"Set 2:\", set2)\n",
    "print(\"Common items in both sets:\", common_items)"
   ]
  },
  {
   "cell_type": "markdown",
   "id": "19a9379c-3b86-4da9-8306-0f97df2dc098",
   "metadata": {},
   "source": [
    "# To find length, min, maximum and how to change a set-in list and tuple"
   ]
  },
  {
   "cell_type": "code",
   "execution_count": 54,
   "id": "fb438f4d-3f98-4e21-91db-47800e4b34a3",
   "metadata": {},
   "outputs": [
    {
     "name": "stdout",
     "output_type": "stream",
     "text": [
      "Original Set: {80, 5, 25, 10, 45}\n",
      "Length of the set: 5\n",
      "Minimum value in the set: 5\n",
      "Maximum value in the set: 80\n",
      "Set converted to List: [80, 5, 25, 10, 45]\n",
      "Set converted to Tuple: (80, 5, 25, 10, 45)\n"
     ]
    }
   ],
   "source": [
    "# Define a set\n",
    "my_set = {25, 10, 5, 80, 45}\n",
    "\n",
    "# Print original set\n",
    "print(\"Original Set:\", my_set)\n",
    "\n",
    "# Find length, min, and max\n",
    "print(\"Length of the set:\", len(my_set))\n",
    "print(\"Minimum value in the set:\", min(my_set))\n",
    "print(\"Maximum value in the set:\", max(my_set))\n",
    "\n",
    "# Convert set to list\n",
    "my_list = list(my_set)\n",
    "print(\"Set converted to List:\", my_list)\n",
    "\n",
    "# Convert set to tuple\n",
    "my_tuple = tuple(my_set)\n",
    "print(\"Set converted to Tuple:\", my_tuple)"
   ]
  },
  {
   "cell_type": "code",
   "execution_count": null,
   "id": "cc50f451-5f13-48e9-b94b-5e144c7740d5",
   "metadata": {},
   "outputs": [],
   "source": []
  }
 ],
 "metadata": {
  "kernelspec": {
   "display_name": "Python 3 (ipykernel)",
   "language": "python",
   "name": "python3"
  },
  "language_info": {
   "codemirror_mode": {
    "name": "ipython",
    "version": 3
   },
   "file_extension": ".py",
   "mimetype": "text/x-python",
   "name": "python",
   "nbconvert_exporter": "python",
   "pygments_lexer": "ipython3",
   "version": "3.12.7"
  }
 },
 "nbformat": 4,
 "nbformat_minor": 5
}
