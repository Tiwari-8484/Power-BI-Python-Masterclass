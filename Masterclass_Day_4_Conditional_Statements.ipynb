{
 "cells": [
  {
   "cell_type": "markdown",
   "id": "605f9ef8-8515-4a07-99c8-61f2bf0d25e2",
   "metadata": {},
   "source": [
    "# Day 4"
   ]
  },
  {
   "cell_type": "markdown",
   "id": "6616df87-505f-439e-bda6-dd7ca8390a23",
   "metadata": {},
   "source": [
    "# Conditional Statement "
   ]
  },
  {
   "cell_type": "markdown",
   "id": "19bab843-c954-44c0-840b-b69a17ba6620",
   "metadata": {},
   "source": [
    "# If - statements"
   ]
  },
  {
   "cell_type": "code",
   "execution_count": 3,
   "id": "0f8bf4c0-9f60-416a-b417-02be9026859b",
   "metadata": {},
   "outputs": [
    {
     "name": "stdin",
     "output_type": "stream",
     "text": [
      "Enter your age  12\n"
     ]
    },
    {
     "name": "stdout",
     "output_type": "stream",
     "text": [
      "You are not eligible vote\n"
     ]
    }
   ],
   "source": [
    "age = int(input(\"Enter your age \"))\n",
    "if age >= 18:\n",
    "    print(\"You are eligible to vote\")\n",
    "if age < 18:\n",
    "    print(\"You are not eligible vote\")"
   ]
  },
  {
   "cell_type": "code",
   "execution_count": 5,
   "id": "eb6d7959-9653-4e04-9aff-c43eca4b95a9",
   "metadata": {},
   "outputs": [
    {
     "name": "stdin",
     "output_type": "stream",
     "text": [
      "Enter a number:  -2\n"
     ]
    },
    {
     "name": "stdout",
     "output_type": "stream",
     "text": [
      "Entered number is negative\n"
     ]
    }
   ],
   "source": [
    "number = int(input(\"Enter a number: \"))\n",
    "if number > 0:\n",
    "    print(\"Entered number is positive\")\n",
    "if number < 0:\n",
    "    print(\"Entered number is negative\")\n",
    "    "
   ]
  },
  {
   "cell_type": "markdown",
   "id": "0a0a4df5-a3d8-41eb-b8c5-56a2317326a7",
   "metadata": {},
   "source": [
    "# if - else statement"
   ]
  },
  {
   "cell_type": "code",
   "execution_count": 7,
   "id": "8f04d4a7-898f-40d7-a02a-d5afffc4bc9f",
   "metadata": {},
   "outputs": [
    {
     "name": "stdin",
     "output_type": "stream",
     "text": [
      "Enter a number:  5\n"
     ]
    },
    {
     "name": "stdout",
     "output_type": "stream",
     "text": [
      "Odd\n"
     ]
    }
   ],
   "source": [
    "number = int(input(\"Enter a number: \"))\n",
    "if number % 2 == 0:\n",
    "    print(\"Even\")\n",
    "else:\n",
    "    print(\"Odd\")  "
   ]
  },
  {
   "cell_type": "markdown",
   "id": "d88aeb19-e155-47ff-bef1-f16a618d4a0c",
   "metadata": {},
   "source": [
    "# Check Voter Eligibility"
   ]
  },
  {
   "cell_type": "code",
   "execution_count": 4,
   "id": "15d0e708-df02-4a1e-8486-384c44d7cdde",
   "metadata": {},
   "outputs": [
    {
     "name": "stdin",
     "output_type": "stream",
     "text": [
      "Enter your age:  12\n"
     ]
    },
    {
     "name": "stdout",
     "output_type": "stream",
     "text": [
      "You are not eligible to vote. Please wait until your turn 18.\n"
     ]
    }
   ],
   "source": [
    "age = int(input(\"Enter your age: \"))\n",
    "if age >= 18:\n",
    "    print(\"You are eligible to vote.\")\n",
    "else: \n",
    "    print(\"You are not eligible to vote. Please wait until your turn 18.\")\n",
    "\n"
   ]
  },
  {
   "cell_type": "markdown",
   "id": "1246c8ef-e039-4b9b-bdd0-fb2e5ae3a52f",
   "metadata": {},
   "source": [
    "# Check Discount in Online Shopping "
   ]
  },
  {
   "cell_type": "code",
   "execution_count": 7,
   "id": "13351f6f-4f93-4c41-b0bd-219d21c92aaf",
   "metadata": {},
   "outputs": [
    {
     "name": "stdin",
     "output_type": "stream",
     "text": [
      "Enter your order value:  80000\n"
     ]
    },
    {
     "name": "stdout",
     "output_type": "stream",
     "text": [
      "You got a 10% Discount of rs 8000.0\n"
     ]
    }
   ],
   "source": [
    "order_value = int(input(\"Enter your order value: \"))\n",
    "\n",
    "if order_value >= 5000:\n",
    "    discount = 0.10 * order_value\n",
    "    print(\"You got a 10% Discount of rs\", discount)\n",
    "else:\n",
    "    print(\"No Discount available. Add more items to get a discount.\") \n",
    "    "
   ]
  },
  {
   "cell_type": "markdown",
   "id": "a36efff7-4106-49d7-abb4-fcc7c85a73c4",
   "metadata": {},
   "source": [
    "# Checking Tempertature & Giving Advice"
   ]
  },
  {
   "cell_type": "code",
   "execution_count": 11,
   "id": "253ac9cb-e213-44ed-b37f-647015d608d8",
   "metadata": {},
   "outputs": [
    {
     "name": "stdin",
     "output_type": "stream",
     "text": [
      "Enter the temperature in Celsius 29\n"
     ]
    },
    {
     "name": "stdout",
     "output_type": "stream",
     "text": [
      "The weather is fine. Enjoy your Day!\n"
     ]
    }
   ],
   "source": [
    "temperature = int(input(\"Enter the temperature in Celsius\"))\n",
    "\n",
    "if temperature >= 30:\n",
    "                  print(\"It is too hot! Stay hydrate.\")\n",
    "else:\n",
    "                  print(\"The weather is fine. Enjoy your Day!\")\n"
   ]
  },
  {
   "cell_type": "markdown",
   "id": "8921db78-6f55-49e1-ae35-82400c16b53d",
   "metadata": {},
   "source": [
    "# Checking Exam Result"
   ]
  },
  {
   "cell_type": "markdown",
   "id": "503a64eb-deab-47a8-a74c-b6bf83bda8bb",
   "metadata": {},
   "source": [
    "Scenario\n",
    "\n",
    "If student score 40 mark or more, they pass the exam. Otherwise, they fail the exam. "
   ]
  },
  {
   "cell_type": "code",
   "execution_count": 14,
   "id": "9f41401d-4e66-4fdb-afc3-2e7098668436",
   "metadata": {},
   "outputs": [
    {
     "name": "stdin",
     "output_type": "stream",
     "text": [
      "Enter your marks:  99\n"
     ]
    },
    {
     "name": "stdout",
     "output_type": "stream",
     "text": [
      "Congratulation! You passed the exam\n"
     ]
    }
   ],
   "source": [
    "marks = int(input(\"Enter your marks: \"))\n",
    "\n",
    "if marks >= 40:\n",
    "    print(\"Congratulation! You passed the exam\")\n",
    "else:\n",
    "    print(\"You failed the exam! Better luck on next time.\")\n",
    "    "
   ]
  },
  {
   "cell_type": "markdown",
   "id": "242300f4-fea2-47ab-8f11-3e3951a899be",
   "metadata": {},
   "source": [
    "# Student Grade Calculation"
   ]
  },
  {
   "cell_type": "markdown",
   "id": "87c18757-baa8-42d8-b408-5be1ff4f2b71",
   "metadata": {},
   "source": [
    "Scenario\n",
    "\n",
    "A sutdent's grade is determined based on marks:\n",
    "\n",
    "90 or above -> Grade A (Excellent)\n",
    "80 - 89 -> Grade B (Very Good)\n",
    "70 - 79 -> Grade C (Good)\n",
    "60 - 69 -> Grade D (Satisfactory)\n",
    "50 - 59 -> Grade E (Need Improvement)\n",
    "Below 50 -> Fail"
   ]
  },
  {
   "cell_type": "code",
   "execution_count": 18,
   "id": "423a25da-5231-486b-8e0f-785ee0c22c67",
   "metadata": {},
   "outputs": [
    {
     "name": "stdin",
     "output_type": "stream",
     "text": [
      "Enter your Marks:  67\n"
     ]
    },
    {
     "name": "stdout",
     "output_type": "stream",
     "text": [
      "Grade D - Satisfactory!\n"
     ]
    }
   ],
   "source": [
    "marks = int(input(\"Enter your Marks: \"))\n",
    "\n",
    "if marks >= 90:\n",
    "    print(\"Grade A - Excellent!\")\n",
    "elif marks >= 80:\n",
    "    print(\"Grade B - Very Good!\")\n",
    "elif marks >= 70:\n",
    "    print(\"Grade C - Good!\")\n",
    "elif marks >= 60:\n",
    "    print(\"Grade D - Satisfactory!\")\n",
    "elif marks >= 50:\n",
    "    print(\"Grade E - Need Improvement!\")\n",
    "else:\n",
    "    print(\"Fail - Try Again!\")"
   ]
  },
  {
   "cell_type": "markdown",
   "id": "8f1151a9-f722-4851-805d-e85675b32f8b",
   "metadata": {},
   "source": [
    "# Restaurant Menu Ordering"
   ]
  },
  {
   "cell_type": "markdown",
   "id": "39a20d9f-58fe-4445-9fa2-096575a64f95",
   "metadata": {},
   "source": [
    "Scenario\n",
    "\n",
    "If they order \"Pizza\", print \"You ordered Pizza. Enjoy your meal!\"\n",
    "If they order \"Burger\", print \"You ordered Burger. Bon Appetit!\"\n",
    "If they order \"Pasta\", print \"You ordered Pasta. Delicious choice!\"\n",
    "If the item is not on the menu, \"Sorry, this item is not available.\"  "
   ]
  },
  {
   "cell_type": "code",
   "execution_count": 26,
   "id": "575cd9d3-9b16-402e-a4cc-dd828626a973",
   "metadata": {},
   "outputs": [
    {
     "name": "stdin",
     "output_type": "stream",
     "text": [
      "What would you like to order? (Pizza/Burger/Pasta):  Samosa\n"
     ]
    },
    {
     "name": "stdout",
     "output_type": "stream",
     "text": [
      "Sorry, this item is not available.\n"
     ]
    }
   ],
   "source": [
    "order = input(\"What would you like to order? (Pizza/Burger/Pasta): \").lower()\n",
    "\n",
    "if order == \"pizza\":\n",
    "    print(\"You ordered Pizza. Enjoy your meal!\")\n",
    "elif order == \"burger\":\n",
    "    print(\"You ordered Burger. Bon Appetit!\")\n",
    "elif order == \"pasta\":\n",
    "    print(\"You ordered Pasta. Delicious choice!\")\n",
    "else:\n",
    "    print(\"Sorry, this item is not available.\")\n",
    "            "
   ]
  },
  {
   "cell_type": "markdown",
   "id": "4e97be3f-7cb8-4827-af8a-0f34e48e8c8d",
   "metadata": {},
   "source": [
    "# Checking Train Ticket Fare Base on Age"
   ]
  },
  {
   "cell_type": "code",
   "execution_count": null,
   "id": "0390afd8-8968-42b1-8425-33001046fae3",
   "metadata": {},
   "outputs": [],
   "source": [
    "Scenario:\n",
    "\n",
    "Children (0-5 years) travel for free.\n",
    "Kids (6-12 years) get a 15% discount  \n",
    "Adult (13-59 years) pay ful fare.\n",
    "Senior citizens (60+ years) get a 30% discount."
   ]
  },
  {
   "cell_type": "code",
   "execution_count": 36,
   "id": "d7a3e777-6bd1-4554-961f-f508c3e6826d",
   "metadata": {},
   "outputs": [
    {
     "name": "stdin",
     "output_type": "stream",
     "text": [
      "Enter your age:  68\n"
     ]
    },
    {
     "name": "stdout",
     "output_type": "stream",
     "text": [
      "Senior Citizens Discount! You Pay RS.70.0\n"
     ]
    }
   ],
   "source": [
    "age = int(input(\"Enter your age: \"))\n",
    "ticket_price = 100  # Base ticket price\n",
    "\n",
    "if age <= 5:\n",
    "    print(\"Free Ticket! Children under 5 travel for free\")\n",
    "elif age <= 12:\n",
    "    discounted_price = ticket_price * 0.5 #50% discount\n",
    "    print(f\"Discounted Ticket! You pay RS.{discounted_price}\")\n",
    "elif age <= 60:\n",
    "    print(f\"Full Fare! You Pay RS.{ticket_price}\")\n",
    "else:\n",
    "    discounted_price = ticket_price * 0.7 #30% discount\n",
    "    print(f\"Senior Citizens Discount! You Pay RS.{discounted_price}\")"
   ]
  },
  {
   "cell_type": "markdown",
   "id": "1b91c9c6-64c6-4188-832d-4ddac8def8bc",
   "metadata": {},
   "source": [
    "# Nested If "
   ]
  },
  {
   "cell_type": "markdown",
   "id": "5093b237-e171-4b09-bf8d-8432f30a2b23",
   "metadata": {},
   "source": [
    "# Checking Eligibility for a Driving License "
   ]
  },
  {
   "cell_type": "markdown",
   "id": "5e53176f-f68a-416b-a48f-83c8df74c9d2",
   "metadata": {},
   "source": [
    "Scenario:\n",
    "A person must be atleast 18 years old to apply for a deriving license. \n",
    "If the person is 18 or older, check if they have valid ID proof to proceed. \n",
    "If they do not have an have an ID, they can't apply."
   ]
  },
  {
   "cell_type": "code",
   "execution_count": 43,
   "id": "6a70305a-0c42-46f3-96d3-051c5ccd3ecf",
   "metadata": {},
   "outputs": [
    {
     "name": "stdin",
     "output_type": "stream",
     "text": [
      "Enter your age:  34\n"
     ]
    },
    {
     "name": "stdout",
     "output_type": "stream",
     "text": [
      "You are eligible to apply for a driving license.\n"
     ]
    },
    {
     "name": "stdin",
     "output_type": "stream",
     "text": [
      "Do you have a valid ID proof? (yes/no):  yes\n"
     ]
    },
    {
     "name": "stdout",
     "output_type": "stream",
     "text": [
      "You can apply for a driving license!\n"
     ]
    }
   ],
   "source": [
    "age = int(input(\"Enter your age: \"))\n",
    "\n",
    "if age >= 18:  # Outer if condition\n",
    "    print(\"You are eligible to apply for a driving license.\") \n",
    "    has_id = input(\"Do you have a valid ID proof? (yes/no): \").lower()\n",
    "    if has_id == \"yes\":  # Inner if condition\n",
    "        print(\"You can apply for a driving license!\") # Corrected spelling: \"driving\"\n",
    "    else:\n",
    "        print(\"Sorry, you need valid ID proof to apply.\")\n",
    "else:\n",
    "    print(\"You are not eligible for a driving license yet. Try again when you are eligible.\") "
   ]
  },
  {
   "cell_type": "markdown",
   "id": "9e17a109-31e8-403b-8ace-9b09e966e8b6",
   "metadata": {},
   "source": [
    "# Checking Scholorship Eligibility "
   ]
  },
  {
   "cell_type": "code",
   "execution_count": null,
   "id": "98110d97-fec2-410a-9cf4-2133905ee398",
   "metadata": {},
   "outputs": [],
   "source": [
    "Scenario:\n",
    "A student must have at least 85% marks to be eligible for a scholorship.\n",
    "If the student has 90% or more, they get a full scholarship.\n",
    "If the student had 85%-89%, they get a full scholarship.\n",
    "If marks are below 85%, they are not eligible.\n"
   ]
  },
  {
   "cell_type": "code",
   "execution_count": 51,
   "id": "b69a4201-2afd-4721-ac86-8b8f5e2c6ca5",
   "metadata": {},
   "outputs": [
    {
     "name": "stdin",
     "output_type": "stream",
     "text": [
      "Enter your marks percentage:  97.6\n"
     ]
    },
    {
     "name": "stdout",
     "output_type": "stream",
     "text": [
      "You are eligible for a scholarship!\n",
      "Congratulations! You get a Full scholarship.\n"
     ]
    }
   ],
   "source": [
    "marks = float(input(\"Enter your marks percentage: \"))\n",
    "\n",
    "if marks > 100 or marks < 0:  # Check for invalid input first\n",
    "    print(\"Invalid input. Marks percentage should be between 0 and 100.\")\n",
    "elif marks >= 85:  # Outer if condition\n",
    "    print(\"You are eligible for a scholarship!\")\n",
    "\n",
    "    if marks >= 90:  # Inner if condition\n",
    "        print(\"Congratulations! You get a Full scholarship.\")\n",
    "    else:\n",
    "        print(\"You get a PARTIAL scholarship.\")\n",
    "else:\n",
    "    print(\"Sorry, you are not eligible for a scholarship. Keep working hard.\")\n",
    "        "
   ]
  },
  {
   "cell_type": "code",
   "execution_count": null,
   "id": "0d8f1d7b-b3ce-4914-a2f7-7135135d88e8",
   "metadata": {},
   "outputs": [],
   "source": []
  }
 ],
 "metadata": {
  "kernelspec": {
   "display_name": "Python 3 (ipykernel)",
   "language": "python",
   "name": "python3"
  },
  "language_info": {
   "codemirror_mode": {
    "name": "ipython",
    "version": 3
   },
   "file_extension": ".py",
   "mimetype": "text/x-python",
   "name": "python",
   "nbconvert_exporter": "python",
   "pygments_lexer": "ipython3",
   "version": "3.12.7"
  }
 },
 "nbformat": 4,
 "nbformat_minor": 5
}
