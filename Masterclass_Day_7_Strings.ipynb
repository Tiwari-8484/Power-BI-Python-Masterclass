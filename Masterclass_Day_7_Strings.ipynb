{
 "cells": [
  {
   "cell_type": "markdown",
   "id": "8357eb66-f68d-4167-a03c-d666882a631b",
   "metadata": {},
   "source": [
    "# Day 7"
   ]
  },
  {
   "cell_type": "markdown",
   "id": "d2783f46-8201-4162-8ab7-e2588692df4c",
   "metadata": {},
   "source": [
    "# String"
   ]
  },
  {
   "cell_type": "markdown",
   "id": "1bf41059-8d19-4895-b01c-9fc0a1f38d45",
   "metadata": {},
   "source": [
    "# Creating String"
   ]
  },
  {
   "cell_type": "code",
   "execution_count": 3,
   "id": "2b239450-bef1-4f42-9f83-17fa99af9bf6",
   "metadata": {},
   "outputs": [
    {
     "name": "stdout",
     "output_type": "stream",
     "text": [
      "Hello\n",
      "<class 'str'>\n",
      "Coders\n",
      " My\n",
      "name \n",
      "is\n",
      "Ankit \n"
     ]
    }
   ],
   "source": [
    "# We can create string 3 types in Python\n",
    "a = 'Hello'\n",
    "print(a)\n",
    "print(type(a))\n",
    "b = \"Coders\"\n",
    "print(b)\n",
    "\n",
    "c =\"\"\" My\n",
    "name \n",
    "is\n",
    "Ankit \"\"\"\n",
    "print(c)\n"
   ]
  },
  {
   "cell_type": "markdown",
   "id": "63b03199-34c0-4511-97c5-449f37b5615d",
   "metadata": {},
   "source": [
    "# Indexing"
   ]
  },
  {
   "cell_type": "code",
   "execution_count": 7,
   "id": "ac64e54f-7924-48ed-bff4-04fe04e20070",
   "metadata": {},
   "outputs": [
    {
     "name": "stdout",
     "output_type": "stream",
     "text": [
      "A\n",
      "n\n",
      "k\n",
      "i\n",
      "t\n"
     ]
    }
   ],
   "source": [
    "# Positive Indexing\n",
    "\n",
    "a = \"Ankit Tiwari\"\n",
    "print(a[0])\n",
    "print(a[1])\n",
    "print(a[2])\n",
    "print(a[3])\n",
    "print(a[4])\n",
    "\n"
   ]
  },
  {
   "cell_type": "code",
   "execution_count": 9,
   "id": "b8e2ffb1-6c66-4a36-9056-fbbe74e67b1a",
   "metadata": {},
   "outputs": [
    {
     "name": "stdout",
     "output_type": "stream",
     "text": [
      "i\n",
      "r\n",
      "a\n",
      "w\n",
      "i\n",
      "T\n"
     ]
    }
   ],
   "source": [
    "# Negattive Indexing\n",
    "\n",
    "a = \"Ankit Tiwari\"\n",
    "\n",
    "print(a[-1])\n",
    "print(a[-2])\n",
    "print(a[-3])\n",
    "print(a[-4])\n",
    "print(a[-5])\n",
    "print(a[-6])\n"
   ]
  },
  {
   "cell_type": "markdown",
   "id": "13e519a6-7962-4d10-b907-6950f3479964",
   "metadata": {},
   "source": [
    "# Slicing of String "
   ]
  },
  {
   "cell_type": "markdown",
   "id": "340da6c2-a5b6-4753-a456-57e2670a4e6d",
   "metadata": {},
   "source": [
    "# Positive Slicing"
   ]
  },
  {
   "cell_type": "code",
   "execution_count": 12,
   "id": "c31c81bc-5803-43e1-8ef0-e04d2bce591a",
   "metadata": {},
   "outputs": [
    {
     "name": "stdout",
     "output_type": "stream",
     "text": [
      "Data is\n"
     ]
    }
   ],
   "source": [
    "a = \"Data is the new oil of Company\"\n",
    "print(a[0:7])"
   ]
  },
  {
   "cell_type": "code",
   "execution_count": 13,
   "id": "dff150e8-7286-4d91-8d16-be06de128a49",
   "metadata": {},
   "outputs": [
    {
     "name": "stdout",
     "output_type": "stream",
     "text": [
      "Data is the new oil of Company\n"
     ]
    }
   ],
   "source": [
    "a = \"Data is the new oil of Company\"\n",
    "print(a[0:])"
   ]
  },
  {
   "cell_type": "code",
   "execution_count": 14,
   "id": "f8e988e5-493a-43c5-bee9-13c55d8abcc4",
   "metadata": {},
   "outputs": [
    {
     "name": "stdout",
     "output_type": "stream",
     "text": [
      "Data is the new oil of Company\n"
     ]
    }
   ],
   "source": [
    "a = \"Data is the new oil of Company\"\n",
    "print(a[:])"
   ]
  },
  {
   "cell_type": "markdown",
   "id": "6932bca6-a8ea-4e64-899a-d250166a71cf",
   "metadata": {},
   "source": [
    "# Slicing with Jump"
   ]
  },
  {
   "cell_type": "code",
   "execution_count": 16,
   "id": "cb52d316-eaaa-4a31-baf8-b6a24610d584",
   "metadata": {},
   "outputs": [
    {
     "name": "stdout",
     "output_type": "stream",
     "text": [
      "Dt s\n"
     ]
    }
   ],
   "source": [
    "# 2 ka jump\n",
    "a = \"Data is the new oil of Company\"\n",
    "print(a[0:7:2])"
   ]
  },
  {
   "cell_type": "code",
   "execution_count": 17,
   "id": "fcf79026-514e-4182-8b2f-9825076c6109",
   "metadata": {},
   "outputs": [
    {
     "name": "stdout",
     "output_type": "stream",
     "text": [
      "Dt stenwolo opn\n"
     ]
    }
   ],
   "source": [
    "a = \"Data is the new oil of Company\"\n",
    "print(a[::2])"
   ]
  },
  {
   "cell_type": "code",
   "execution_count": 18,
   "id": "a9940bb0-f3f2-4824-946e-1a562938a931",
   "metadata": {},
   "outputs": [
    {
     "name": "stdout",
     "output_type": "stream",
     "text": [
      "Dashn lfoa\n"
     ]
    }
   ],
   "source": [
    "a = \"Data is the new oil of Company\"\n",
    "print(a[::3])"
   ]
  },
  {
   "cell_type": "markdown",
   "id": "babce0bc-5d55-4425-8915-4e90f7c5443f",
   "metadata": {},
   "source": [
    "# Negative Slicing "
   ]
  },
  {
   "cell_type": "code",
   "execution_count": 19,
   "id": "00f0fef4-6e72-42dd-95ea-331b890370eb",
   "metadata": {},
   "outputs": [
    {
     "name": "stdout",
     "output_type": "stream",
     "text": [
      "Compan\n"
     ]
    }
   ],
   "source": [
    "a = \"Data is the new oil of Company\"\n",
    "print(a[-7:-1])"
   ]
  },
  {
   "cell_type": "code",
   "execution_count": 20,
   "id": "edce1184-2914-43aa-b035-bd4761d938bd",
   "metadata": {},
   "outputs": [
    {
     "name": "stdout",
     "output_type": "stream",
     "text": [
      "Data is the new oil of Compan\n"
     ]
    }
   ],
   "source": [
    "a = \"Data is the new oil of Company\"\n",
    "print(a[:-1])"
   ]
  },
  {
   "cell_type": "code",
   "execution_count": 22,
   "id": "957e7a9e-1aed-4bda-a0e4-11a30d36019c",
   "metadata": {},
   "outputs": [
    {
     "name": "stdout",
     "output_type": "stream",
     "text": [
      "tluciffid yrev si efiL\n"
     ]
    }
   ],
   "source": [
    "# Write a python program to reverse the string, \"Life is very difficult\"\n",
    "\n",
    "a = \"Life is very difficult\"\n",
    "print(a[::-1])"
   ]
  },
  {
   "cell_type": "code",
   "execution_count": 24,
   "id": "fb690531-e14a-4481-afb2-660d6deea909",
   "metadata": {},
   "outputs": [
    {
     "name": "stdout",
     "output_type": "stream",
     "text": [
      "ीरावित तिकंअ\n"
     ]
    }
   ],
   "source": [
    "a = \"अंकित तिवारी\"\n",
    "print(a[::-1])\n"
   ]
  },
  {
   "cell_type": "markdown",
   "id": "9823cbf0-e0e7-4e80-9ad3-6ef040ef0809",
   "metadata": {},
   "source": [
    "# Finding the length of a string"
   ]
  },
  {
   "cell_type": "code",
   "execution_count": 31,
   "id": "2dfd031f-10d9-4e0e-9890-8689cc8abcbf",
   "metadata": {},
   "outputs": [
    {
     "name": "stdout",
     "output_type": "stream",
     "text": [
      "16\n"
     ]
    }
   ],
   "source": [
    "s = \"AnkitKumarTiwari\"\n",
    "length = len(s)\n",
    "print(length)"
   ]
  },
  {
   "cell_type": "code",
   "execution_count": 32,
   "id": "16e606d6-945f-4d8d-acc1-47c93e0c274e",
   "metadata": {},
   "outputs": [
    {
     "name": "stdout",
     "output_type": "stream",
     "text": [
      "37\n"
     ]
    }
   ],
   "source": [
    "a = \"datascience is the gratest technology\"\n",
    "length = len(a)\n",
    "print(length)"
   ]
  },
  {
   "cell_type": "markdown",
   "id": "c309f2b5-85a1-42c4-b747-523d9395d866",
   "metadata": {},
   "source": [
    "# Empty String"
   ]
  },
  {
   "cell_type": "code",
   "execution_count": 33,
   "id": "80fd0e31-b302-4a0d-b05a-3c2a3c4120d1",
   "metadata": {},
   "outputs": [
    {
     "name": "stdout",
     "output_type": "stream",
     "text": [
      "0\n"
     ]
    }
   ],
   "source": [
    "a = \"\"\n",
    "length = len(a)\n",
    "print(length)"
   ]
  },
  {
   "cell_type": "code",
   "execution_count": 34,
   "id": "4e165358-5d2d-445f-895e-b835791a8783",
   "metadata": {},
   "outputs": [
    {
     "name": "stdout",
     "output_type": "stream",
     "text": [
      "1\n"
     ]
    }
   ],
   "source": [
    "a = \" \"\n",
    "length = len(a)\n",
    "print(length)"
   ]
  },
  {
   "cell_type": "code",
   "execution_count": 35,
   "id": "d3fe286b-f348-4d28-9cc4-33e8f0e5b434",
   "metadata": {},
   "outputs": [
    {
     "name": "stdout",
     "output_type": "stream",
     "text": [
      "3\n"
     ]
    }
   ],
   "source": [
    "s = \"   \"\n",
    "length = len(s)\n",
    "print(length)"
   ]
  },
  {
   "cell_type": "code",
   "execution_count": 36,
   "id": "0d48ef9d-81bb-4ea4-9404-83a4ebad0e42",
   "metadata": {},
   "outputs": [
    {
     "name": "stdout",
     "output_type": "stream",
     "text": [
      "20\n"
     ]
    }
   ],
   "source": [
    "s = \"hello\\nworld\\nwhatsupp\"\n",
    "length = len(s)\n",
    "print(length)"
   ]
  },
  {
   "cell_type": "code",
   "execution_count": 40,
   "id": "6765e8bb-df36-4ae1-ab2c-423cb0fa788d",
   "metadata": {},
   "outputs": [
    {
     "name": "stdout",
     "output_type": "stream",
     "text": [
      "11\n"
     ]
    }
   ],
   "source": [
    "s = \"\"\"hello\n",
    "world\"\"\"\n",
    "length = len(s)\n",
    "print(length)"
   ]
  },
  {
   "cell_type": "markdown",
   "id": "55495e4a-5696-4e67-b7ae-85f0657d9ccd",
   "metadata": {},
   "source": [
    "# Python Modify String"
   ]
  },
  {
   "cell_type": "markdown",
   "id": "0542b967-b700-42ac-bcc9-83b69d52fbff",
   "metadata": {},
   "source": [
    "# Upper method"
   ]
  },
  {
   "cell_type": "code",
   "execution_count": 1,
   "id": "3d8bdd02-65b0-4a33-99db-b4a8406346f7",
   "metadata": {},
   "outputs": [
    {
     "name": "stdout",
     "output_type": "stream",
     "text": [
      "HEY I'M ANKIT TIWARI THIS SIDE\n"
     ]
    }
   ],
   "source": [
    "s = \"hey i'm ankit tiwari this side\"\n",
    "upper_s = s.upper()\n",
    "print(upper_s)"
   ]
  },
  {
   "cell_type": "code",
   "execution_count": 3,
   "id": "6d9f6650-1663-4b1b-94bb-4f2eee8e9cf4",
   "metadata": {},
   "outputs": [
    {
     "name": "stdout",
     "output_type": "stream",
     "text": [
      "HELLO WORLD\n"
     ]
    }
   ],
   "source": [
    "a = \"HeLLo WoRlD\"\n",
    "upper_s = a.upper()\n",
    "print(upper_s)"
   ]
  },
  {
   "cell_type": "markdown",
   "id": "86a7b1fa-dd0b-4f28-a796-e346d7d25fdd",
   "metadata": {},
   "source": [
    "# Lower Method"
   ]
  },
  {
   "cell_type": "code",
   "execution_count": 4,
   "id": "c1f9c6f7-d820-4591-9eb0-6baf35d5cdbb",
   "metadata": {},
   "outputs": [
    {
     "name": "stdout",
     "output_type": "stream",
     "text": [
      "the ankit\n"
     ]
    }
   ],
   "source": [
    "text = \"The ANkit\"\n",
    "lower_text = text.lower()\n",
    "print(lower_text)"
   ]
  },
  {
   "cell_type": "code",
   "execution_count": 5,
   "id": "175f047a-64fd-43c8-8b23-d18cf63ecc23",
   "metadata": {},
   "outputs": [
    {
     "name": "stdout",
     "output_type": "stream",
     "text": [
      "india is a great country in the world\n"
     ]
    }
   ],
   "source": [
    "sentence = \"India is a GREAT country in the WORLD\"\n",
    "lower_sentence = sentence.lower()\n",
    "print(lower_sentence)"
   ]
  },
  {
   "cell_type": "markdown",
   "id": "a2f79394-dca7-4c5b-a6ad-df80c44bb565",
   "metadata": {},
   "source": [
    "# Replace String"
   ]
  },
  {
   "cell_type": "code",
   "execution_count": 6,
   "id": "2a5ff750-01ca-4492-8d98-85e151a1e34a",
   "metadata": {},
   "outputs": [
    {
     "name": "stdout",
     "output_type": "stream",
     "text": [
      "Hi World, Hi Python\n"
     ]
    }
   ],
   "source": [
    "text = \"Hello World, Hello Python\"\n",
    "new_text = text.replace(\"Hello\", \"Hi\")\n",
    "print(new_text)"
   ]
  },
  {
   "cell_type": "code",
   "execution_count": 8,
   "id": "db56d34c-294a-4153-844b-02d5ce3bcc92",
   "metadata": {},
   "outputs": [
    {
     "name": "stdout",
     "output_type": "stream",
     "text": [
      "OMG, NLP is so cool! BTW, I'm learning NLP.\n",
      "Oh my god, NLP is so cool! By the way, I'm learning NLP.\n"
     ]
    }
   ],
   "source": [
    "tweet = \"OMG, NLP is so cool! BTW, I'm learning NLP.\"\n",
    "print(tweet)\n",
    "clean_tweet = tweet.replace(\"OMG\", \"Oh my god\").replace(\"BTW\", \"By the way\")\n",
    "print(clean_tweet)"
   ]
  },
  {
   "cell_type": "code",
   "execution_count": 10,
   "id": "ae5d3d23-f81c-4692-ab5d-f6b082b25afb",
   "metadata": {},
   "outputs": [
    {
     "name": "stdout",
     "output_type": "stream",
     "text": [
      "NLP is an emerging field of study.\n"
     ]
    }
   ],
   "source": [
    "text_with_missing = \"NLP is an [missing] field of study.\"\n",
    "clean_text = text_with_missing.replace(\"[missing]\", \"emerging\")\n",
    "print(clean_text)"
   ]
  },
  {
   "cell_type": "markdown",
   "id": "0c94798d-30fc-4881-b5d2-bdc6fb35cc7b",
   "metadata": {},
   "source": [
    "# find() method"
   ]
  },
  {
   "cell_type": "code",
   "execution_count": 11,
   "id": "2a3f138a-15cd-4a0d-869b-8bb50cabc3cb",
   "metadata": {},
   "outputs": [
    {
     "name": "stdout",
     "output_type": "stream",
     "text": [
      "15\n",
      "10\n"
     ]
    }
   ],
   "source": [
    "a = \"python is great\"\n",
    "b = a.find(\"g\")\n",
    "print(len(a))\n",
    "print(b)"
   ]
  },
  {
   "cell_type": "code",
   "execution_count": 12,
   "id": "4f34e05f-a63a-431d-84c8-4edb2f4e04a6",
   "metadata": {},
   "outputs": [
    {
     "name": "stdout",
     "output_type": "stream",
     "text": [
      "15\n",
      "2\n"
     ]
    }
   ],
   "source": [
    "a = \"python is great\"\n",
    "b = a.find(\"thon\")\n",
    "print(len(a))\n",
    "print(b)"
   ]
  },
  {
   "cell_type": "markdown",
   "id": "91f6a0d3-d837-4a5c-8be0-24f92027fbd6",
   "metadata": {},
   "source": [
    "# Python string index() Method"
   ]
  },
  {
   "cell_type": "code",
   "execution_count": 14,
   "id": "2f005aff-7c01-406a-98d9-dd7c3a64d117",
   "metadata": {},
   "outputs": [
    {
     "name": "stdout",
     "output_type": "stream",
     "text": [
      "10\n"
     ]
    }
   ],
   "source": [
    "txt = \"I am learning python data analyst\"\n",
    "x = txt.index(\"i\")\n",
    "print(x)"
   ]
  },
  {
   "cell_type": "markdown",
   "id": "1c18d0e5-ec20-49dc-99a2-fee467a40090",
   "metadata": {},
   "source": [
    "# String Concatenation"
   ]
  },
  {
   "cell_type": "code",
   "execution_count": 16,
   "id": "27d60976-5836-4b4f-a187-5f1d2368d2d5",
   "metadata": {},
   "outputs": [
    {
     "name": "stdout",
     "output_type": "stream",
     "text": [
      "Ankit Tiwari\n"
     ]
    }
   ],
   "source": [
    "a = \"Ankit\"\n",
    "b = \"Tiwari\"\n",
    "c = a + \" \" + b\n",
    "print(c)"
   ]
  },
  {
   "cell_type": "code",
   "execution_count": 19,
   "id": "28bd143b-eecb-49db-9522-d3607fe501e0",
   "metadata": {},
   "outputs": [
    {
     "name": "stdout",
     "output_type": "stream",
     "text": [
      " data analyst data analyst data analyst\n"
     ]
    }
   ],
   "source": [
    "a = \" data analyst\"\n",
    "print(a*3)"
   ]
  },
  {
   "cell_type": "markdown",
   "id": "b2049948-4ad8-4297-9cff-dd193a3e936e",
   "metadata": {},
   "source": [
    "# Stored"
   ]
  },
  {
   "cell_type": "code",
   "execution_count": 22,
   "id": "a3d913f0-9693-45b5-82e8-733f28c18f82",
   "metadata": {},
   "outputs": [
    {
     "name": "stdout",
     "output_type": "stream",
     "text": [
      "['A', 'i', 'k', 'n', 't']\n"
     ]
    }
   ],
   "source": [
    "a = \"Ankit\"\n",
    "print(sorted(a))"
   ]
  },
  {
   "cell_type": "markdown",
   "id": "9a227797-8b78-4cac-8d0e-b319cd5d229f",
   "metadata": {},
   "source": [
    "# Practice questions"
   ]
  },
  {
   "cell_type": "code",
   "execution_count": null,
   "id": "0323c770-f57b-4ded-a934-fbf776da899c",
   "metadata": {},
   "outputs": [],
   "source": [
    "Two string are called anagrams if they contain the same characters in a different order\n",
    "Example: \"listen\" and \"silent\" are anagrams.\n",
    "Write a functionto check if two given strings are anagrams."
   ]
  },
  {
   "cell_type": "code",
   "execution_count": 23,
   "id": "189931fa-4c25-46f0-b515-4ae8b0468ba0",
   "metadata": {},
   "outputs": [
    {
     "name": "stdout",
     "output_type": "stream",
     "text": [
      "True\n",
      "False\n"
     ]
    }
   ],
   "source": [
    "def are_anagrams(str1, str2):\n",
    "    # Remove spaces and convert to lowercase for uniformity\n",
    "    str1, str2 = str1.replace(\" \", \"\").lower(), str2.replace(\" \", \"\").lower()\n",
    "    \n",
    "    # Check if sorted versions of both strings are equal\n",
    "    return sorted(str1) == sorted(str2)\n",
    "\n",
    "# Example usage\n",
    "print(are_anagrams(\"listen\", \"silent\"))  # True\n",
    "print(are_anagrams(\"hello\", \"world\"))    # False"
   ]
  },
  {
   "cell_type": "code",
   "execution_count": 24,
   "id": "87b63d6e-9ed3-4aed-9a49-5793889df4b7",
   "metadata": {},
   "outputs": [
    {
     "name": "stdout",
     "output_type": "stream",
     "text": [
      "True\n"
     ]
    }
   ],
   "source": [
    "print(are_anagrams(\"triangle\", \"integral\"))"
   ]
  },
  {
   "cell_type": "code",
   "execution_count": 25,
   "id": "708aa447-e421-4e75-9b21-76b06b85bcb2",
   "metadata": {},
   "outputs": [
    {
     "name": "stdout",
     "output_type": "stream",
     "text": [
      "True\n"
     ]
    }
   ],
   "source": [
    "print(are_anagrams(\"dusty\", \"study\"))  # True\n"
   ]
  },
  {
   "cell_type": "code",
   "execution_count": 26,
   "id": "8584338c-3b79-4f68-8d49-43e5bf08c9e9",
   "metadata": {},
   "outputs": [
    {
     "name": "stdout",
     "output_type": "stream",
     "text": [
      "True\n"
     ]
    }
   ],
   "source": [
    "print(are_anagrams(\"night\", \"thing\"))  # True"
   ]
  },
  {
   "cell_type": "code",
   "execution_count": 27,
   "id": "95e2806b-9249-4a4c-af02-e0022d426f1e",
   "metadata": {},
   "outputs": [
    {
     "name": "stdout",
     "output_type": "stream",
     "text": [
      "False\n"
     ]
    }
   ],
   "source": [
    "print(are_anagrams(\"apple\", \"pale\"))  # False\n"
   ]
  },
  {
   "cell_type": "code",
   "execution_count": null,
   "id": "bbde0723-9065-445e-8573-812ed61aed52",
   "metadata": {},
   "outputs": [],
   "source": [
    "Write a python function to find the longest word a given sentence.\n",
    "Input: \"Python is powerful programming language\"\n",
    "output: \"Programming\""
   ]
  },
  {
   "cell_type": "code",
   "execution_count": 28,
   "id": "90ff8e80-1e61-4cca-8e9c-e7039728c338",
   "metadata": {},
   "outputs": [
    {
     "name": "stdout",
     "output_type": "stream",
     "text": [
      "programming\n"
     ]
    }
   ],
   "source": [
    "def find_longest_word(sentence):\n",
    "    # Split the sentence into words and return the longest one\n",
    "    words = sentence.split()\n",
    "    return max(words, key=len)\n",
    "\n",
    "# Example usage\n",
    "print(find_longest_word(\"Python is powerful programming language\"))  # \"Programming\"\n"
   ]
  },
  {
   "cell_type": "code",
   "execution_count": null,
   "id": "462f6963-ef19-496f-9384-cb563aca3aea",
   "metadata": {},
   "outputs": [],
   "source": [
    "find the most frequently occuring character in a given string.\n",
    "Input: \"mississippi\"\n",
    "Output: \"i\""
   ]
  },
  {
   "cell_type": "code",
   "execution_count": 29,
   "id": "e5174e4b-2a51-4475-8d8f-79c4d00b1344",
   "metadata": {},
   "outputs": [
    {
     "name": "stdout",
     "output_type": "stream",
     "text": [
      "i\n"
     ]
    }
   ],
   "source": [
    "def most_frequent_character(s):\n",
    "    # Count occurrences of each character\n",
    "    frequency = {}\n",
    "    for char in s:\n",
    "        frequency[char] = frequency.get(char, 0) + 1\n",
    "    \n",
    "    # Find the character with the maximum frequency\n",
    "    return max(frequency, key=frequency.get)\n",
    "\n",
    "# Example usage\n",
    "print(most_frequent_character(\"mississippi\"))  # \"i\"\n"
   ]
  },
  {
   "cell_type": "code",
   "execution_count": null,
   "id": "422a5bdc-ccc6-4e08-a2af-94c367d6127e",
   "metadata": {},
   "outputs": [],
   "source": []
  }
 ],
 "metadata": {
  "kernelspec": {
   "display_name": "Python 3 (ipykernel)",
   "language": "python",
   "name": "python3"
  },
  "language_info": {
   "codemirror_mode": {
    "name": "ipython",
    "version": 3
   },
   "file_extension": ".py",
   "mimetype": "text/x-python",
   "name": "python",
   "nbconvert_exporter": "python",
   "pygments_lexer": "ipython3",
   "version": "3.12.7"
  }
 },
 "nbformat": 4,
 "nbformat_minor": 5
}
